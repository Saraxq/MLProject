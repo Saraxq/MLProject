{
 "cells": [
  {
   "cell_type": "markdown",
   "id": "31370018",
   "metadata": {
    "papermill": {
     "duration": 0.02224,
     "end_time": "2021-09-10T21:57:22.695663",
     "exception": false,
     "start_time": "2021-09-10T21:57:22.673423",
     "status": "completed"
    },
    "tags": []
   },
   "source": [
    "# **Introduction**\n",
    "\n",
    "Face Detection Systems have great uses in today’s world which demands security, accessibility or joy! Today, we will be building a model that can plot 15 key points on a face.\n",
    "\n",
    "Face Landmark Detection models form various features we see in social media apps. The face filters you find on Instagram are a common use case. The algorithm aligns the mask on the image keeping the face landmarks as base points.\n",
    "\n",
    "In this notebook, we'll develop a model which marks keypoints on a given image of a human face. We'll build a Convolutional Neural Network which takes an image and returns a array of keypoints.\n",
    "\n",
    "We'll require a GPU Hardware accelerator for training the model. Change the runtime type to GPU by going to Tools > Change Runtime Type > Hardware Accelerator > GPU.\n",
    "\n",
    "![](https://miro.medium.com/max/2000/1*qNNr1hrFoaeAWru7VI0SbQ.png)"
   ]
  },
  {
   "cell_type": "markdown",
   "id": "f29c6e45",
   "metadata": {
    "papermill": {
     "duration": 0.019342,
     "end_time": "2021-09-10T21:57:22.734696",
     "exception": false,
     "start_time": "2021-09-10T21:57:22.715354",
     "status": "completed"
    },
    "tags": []
   },
   "source": [
    "# **Reading data and Preprocessing**"
   ]
  },
  {
   "cell_type": "code",
   "execution_count": 1,
   "id": "8a2b9557",
   "metadata": {
    "execution": {
     "iopub.execute_input": "2021-09-10T21:57:22.788554Z",
     "iopub.status.busy": "2021-09-10T21:57:22.787578Z",
     "iopub.status.idle": "2021-09-10T21:57:28.744011Z",
     "shell.execute_reply": "2021-09-10T21:57:28.743236Z",
     "shell.execute_reply.started": "2021-09-10T21:41:39.793900Z"
    },
    "papermill": {
     "duration": 5.988842,
     "end_time": "2021-09-10T21:57:28.744348",
     "exception": false,
     "start_time": "2021-09-10T21:57:22.755506",
     "status": "completed"
    },
    "tags": []
   },
   "outputs": [],
   "source": [
    "import pandas as pd\n",
    "import numpy as np\n",
    "import matplotlib.pyplot as plt\n",
    "from sklearn.model_selection import train_test_split\n",
    "import tensorflow as tf"
   ]
  },
  {
   "cell_type": "code",
   "execution_count": 2,
   "id": "d17d68c1",
   "metadata": {
    "execution": {
     "iopub.execute_input": "2021-09-10T21:57:28.791038Z",
     "iopub.status.busy": "2021-09-10T21:57:28.789976Z",
     "iopub.status.idle": "2021-09-10T21:57:28.793396Z",
     "shell.execute_reply": "2021-09-10T21:57:28.792781Z",
     "shell.execute_reply.started": "2021-09-10T21:41:44.809532Z"
    },
    "papermill": {
     "duration": 0.028814,
     "end_time": "2021-09-10T21:57:28.793549",
     "exception": false,
     "start_time": "2021-09-10T21:57:28.764735",
     "status": "completed"
    },
    "tags": []
   },
   "outputs": [],
   "source": [
    "# Plotting images with landmarks\n",
    "def plot_image_landmarks(img_array, df_landmarks, index):\n",
    "    plt.imshow(img_array[index, :, :, 0], cmap = 'gray')\n",
    "    plt.scatter(df_landmarks.iloc[index][0: -1: 2], df_landmarks.iloc[index][1: : 2], c = 'y')\n",
    "    plt.show()"
   ]
  },
  {
   "cell_type": "code",
   "execution_count": 5,
   "id": "786d8dc1",
   "metadata": {
    "execution": {
     "iopub.execute_input": "2021-09-10T21:57:28.835032Z",
     "iopub.status.busy": "2021-09-10T21:57:28.834355Z",
     "iopub.status.idle": "2021-09-10T21:57:32.361381Z",
     "shell.execute_reply": "2021-09-10T21:57:32.362044Z",
     "shell.execute_reply.started": "2021-09-10T21:41:44.821354Z"
    },
    "papermill": {
     "duration": 3.550562,
     "end_time": "2021-09-10T21:57:32.362291",
     "exception": false,
     "start_time": "2021-09-10T21:57:28.811729",
     "status": "completed"
    },
    "tags": []
   },
   "outputs": [],
   "source": [
    "features = np.load('../../dataset/facelandmark/face_images.npz')\n",
    "features = features.get(features.files[0]) # images\n",
    "features = np.moveaxis(features, -1, 0)\n",
    "features = features.reshape(features.shape[0], features.shape[1], features.shape[1], 1)"
   ]
  },
  {
   "cell_type": "code",
   "execution_count": 6,
   "id": "86367968",
   "metadata": {
    "execution": {
     "iopub.execute_input": "2021-09-10T21:57:32.406416Z",
     "iopub.status.busy": "2021-09-10T21:57:32.405737Z",
     "iopub.status.idle": "2021-09-10T21:57:32.496529Z",
     "shell.execute_reply": "2021-09-10T21:57:32.497249Z",
     "shell.execute_reply.started": "2021-09-10T21:41:48.861862Z"
    },
    "papermill": {
     "duration": 0.115785,
     "end_time": "2021-09-10T21:57:32.497435",
     "exception": false,
     "start_time": "2021-09-10T21:57:32.381650",
     "status": "completed"
    },
    "tags": []
   },
   "outputs": [
    {
     "data": {
      "text/plain": "   left_eye_center_x  left_eye_center_y  right_eye_center_x  \\\n0          66.033564          39.002274           30.227008   \n1          64.332936          34.970077           29.949277   \n2          65.057053          34.909642           30.903789   \n3          65.225739          37.261774           32.023096   \n4          66.725301          39.621261           32.244810   \n\n   right_eye_center_y  left_eye_inner_corner_x  left_eye_inner_corner_y  \\\n0           36.421678                59.582075                39.647423   \n1           33.448715                58.856170                35.274349   \n2           34.909642                59.412000                36.320968   \n3           37.261774                60.003339                39.127179   \n4           38.042032                58.565890                39.621261   \n\n   left_eye_outer_corner_x  left_eye_outer_corner_y  right_eye_inner_corner_x  \\\n0                73.130346                39.969997                 36.356571   \n1                70.722723                36.187166                 36.034723   \n2                70.984421                36.320968                 37.678105   \n3                72.314713                38.380967                 37.618643   \n4                72.515926                39.884466                 36.982380   \n\n   right_eye_inner_corner_y  ...  nose_tip_x  nose_tip_y  mouth_left_corner_x  \\\n0                 37.389402  ...   44.420571   57.066803            61.195308   \n1                 34.361532  ...   48.206298   55.660936            56.421447   \n2                 36.320968  ...   47.557263   53.538947            60.822947   \n3                 38.754115  ...   51.885078   54.166539            65.598887   \n4                 39.094852  ...   43.299534   64.889521            60.671411   \n\n   mouth_left_corner_y  mouth_right_corner_x  mouth_right_corner_y  \\\n0            79.970165             28.614496             77.388992   \n1            76.352000             35.122383             76.047660   \n2            73.014316             33.726316             72.732000   \n3            72.703722             37.245496             74.195478   \n4            77.523239             31.191755             76.997301   \n\n   mouth_center_top_lip_x  mouth_center_top_lip_y  mouth_center_bottom_lip_x  \\\n0               43.312602               72.935459                  43.130707   \n1               46.684596               70.266553                  45.467915   \n2               47.274947               70.191789                  47.274947   \n3               50.303165               70.091687                  51.561183   \n4               44.962748               73.707387                  44.227141   \n\n   mouth_center_bottom_lip_y  \n0                  84.485774  \n1                  85.480170  \n2                  78.659368  \n3                  78.268383  \n4                  86.871166  \n\n[5 rows x 30 columns]",
      "text/html": "<div>\n<style scoped>\n    .dataframe tbody tr th:only-of-type {\n        vertical-align: middle;\n    }\n\n    .dataframe tbody tr th {\n        vertical-align: top;\n    }\n\n    .dataframe thead th {\n        text-align: right;\n    }\n</style>\n<table border=\"1\" class=\"dataframe\">\n  <thead>\n    <tr style=\"text-align: right;\">\n      <th></th>\n      <th>left_eye_center_x</th>\n      <th>left_eye_center_y</th>\n      <th>right_eye_center_x</th>\n      <th>right_eye_center_y</th>\n      <th>left_eye_inner_corner_x</th>\n      <th>left_eye_inner_corner_y</th>\n      <th>left_eye_outer_corner_x</th>\n      <th>left_eye_outer_corner_y</th>\n      <th>right_eye_inner_corner_x</th>\n      <th>right_eye_inner_corner_y</th>\n      <th>...</th>\n      <th>nose_tip_x</th>\n      <th>nose_tip_y</th>\n      <th>mouth_left_corner_x</th>\n      <th>mouth_left_corner_y</th>\n      <th>mouth_right_corner_x</th>\n      <th>mouth_right_corner_y</th>\n      <th>mouth_center_top_lip_x</th>\n      <th>mouth_center_top_lip_y</th>\n      <th>mouth_center_bottom_lip_x</th>\n      <th>mouth_center_bottom_lip_y</th>\n    </tr>\n  </thead>\n  <tbody>\n    <tr>\n      <th>0</th>\n      <td>66.033564</td>\n      <td>39.002274</td>\n      <td>30.227008</td>\n      <td>36.421678</td>\n      <td>59.582075</td>\n      <td>39.647423</td>\n      <td>73.130346</td>\n      <td>39.969997</td>\n      <td>36.356571</td>\n      <td>37.389402</td>\n      <td>...</td>\n      <td>44.420571</td>\n      <td>57.066803</td>\n      <td>61.195308</td>\n      <td>79.970165</td>\n      <td>28.614496</td>\n      <td>77.388992</td>\n      <td>43.312602</td>\n      <td>72.935459</td>\n      <td>43.130707</td>\n      <td>84.485774</td>\n    </tr>\n    <tr>\n      <th>1</th>\n      <td>64.332936</td>\n      <td>34.970077</td>\n      <td>29.949277</td>\n      <td>33.448715</td>\n      <td>58.856170</td>\n      <td>35.274349</td>\n      <td>70.722723</td>\n      <td>36.187166</td>\n      <td>36.034723</td>\n      <td>34.361532</td>\n      <td>...</td>\n      <td>48.206298</td>\n      <td>55.660936</td>\n      <td>56.421447</td>\n      <td>76.352000</td>\n      <td>35.122383</td>\n      <td>76.047660</td>\n      <td>46.684596</td>\n      <td>70.266553</td>\n      <td>45.467915</td>\n      <td>85.480170</td>\n    </tr>\n    <tr>\n      <th>2</th>\n      <td>65.057053</td>\n      <td>34.909642</td>\n      <td>30.903789</td>\n      <td>34.909642</td>\n      <td>59.412000</td>\n      <td>36.320968</td>\n      <td>70.984421</td>\n      <td>36.320968</td>\n      <td>37.678105</td>\n      <td>36.320968</td>\n      <td>...</td>\n      <td>47.557263</td>\n      <td>53.538947</td>\n      <td>60.822947</td>\n      <td>73.014316</td>\n      <td>33.726316</td>\n      <td>72.732000</td>\n      <td>47.274947</td>\n      <td>70.191789</td>\n      <td>47.274947</td>\n      <td>78.659368</td>\n    </tr>\n    <tr>\n      <th>3</th>\n      <td>65.225739</td>\n      <td>37.261774</td>\n      <td>32.023096</td>\n      <td>37.261774</td>\n      <td>60.003339</td>\n      <td>39.127179</td>\n      <td>72.314713</td>\n      <td>38.380967</td>\n      <td>37.618643</td>\n      <td>38.754115</td>\n      <td>...</td>\n      <td>51.885078</td>\n      <td>54.166539</td>\n      <td>65.598887</td>\n      <td>72.703722</td>\n      <td>37.245496</td>\n      <td>74.195478</td>\n      <td>50.303165</td>\n      <td>70.091687</td>\n      <td>51.561183</td>\n      <td>78.268383</td>\n    </tr>\n    <tr>\n      <th>4</th>\n      <td>66.725301</td>\n      <td>39.621261</td>\n      <td>32.244810</td>\n      <td>38.042032</td>\n      <td>58.565890</td>\n      <td>39.621261</td>\n      <td>72.515926</td>\n      <td>39.884466</td>\n      <td>36.982380</td>\n      <td>39.094852</td>\n      <td>...</td>\n      <td>43.299534</td>\n      <td>64.889521</td>\n      <td>60.671411</td>\n      <td>77.523239</td>\n      <td>31.191755</td>\n      <td>76.997301</td>\n      <td>44.962748</td>\n      <td>73.707387</td>\n      <td>44.227141</td>\n      <td>86.871166</td>\n    </tr>\n  </tbody>\n</table>\n<p>5 rows × 30 columns</p>\n</div>"
     },
     "execution_count": 6,
     "metadata": {},
     "output_type": "execute_result"
    }
   ],
   "source": [
    "keypoints = pd.read_csv('../../dataset/facelandmark/facial_keypoints.csv')\n",
    "keypoints.head()"
   ]
  },
  {
   "cell_type": "code",
   "execution_count": 7,
   "id": "5c38bea2",
   "metadata": {
    "execution": {
     "iopub.execute_input": "2021-09-10T21:57:32.547312Z",
     "iopub.status.busy": "2021-09-10T21:57:32.546252Z",
     "iopub.status.idle": "2021-09-10T21:57:32.556423Z",
     "shell.execute_reply": "2021-09-10T21:57:32.555758Z",
     "shell.execute_reply.started": "2021-09-10T21:41:48.945641Z"
    },
    "papermill": {
     "duration": 0.036048,
     "end_time": "2021-09-10T21:57:32.556565",
     "exception": false,
     "start_time": "2021-09-10T21:57:32.520517",
     "status": "completed"
    },
    "tags": []
   },
   "outputs": [
    {
     "data": {
      "text/plain": "0       0\n1       0\n2       0\n3       0\n4       0\n       ..\n7044    0\n7045    0\n7046    0\n7047    0\n7048    0\nLength: 7049, dtype: int64"
     },
     "execution_count": 7,
     "metadata": {},
     "output_type": "execute_result"
    }
   ],
   "source": [
    "# Cleaing data\n",
    "keypoints = keypoints.fillna(0)\n",
    "num_missing_keypoints = keypoints.isnull().sum(axis = 1)\n",
    "num_missing_keypoints"
   ]
  },
  {
   "cell_type": "code",
   "execution_count": 8,
   "id": "5486b456",
   "metadata": {
    "execution": {
     "iopub.execute_input": "2021-09-10T21:57:32.602541Z",
     "iopub.status.busy": "2021-09-10T21:57:32.601428Z",
     "iopub.status.idle": "2021-09-10T21:57:33.223463Z",
     "shell.execute_reply": "2021-09-10T21:57:33.222839Z",
     "shell.execute_reply.started": "2021-09-10T21:41:48.958242Z"
    },
    "papermill": {
     "duration": 0.646486,
     "end_time": "2021-09-10T21:57:33.223611",
     "exception": false,
     "start_time": "2021-09-10T21:57:32.577125",
     "status": "completed"
    },
    "tags": []
   },
   "outputs": [],
   "source": [
    "new_features = features[keypoints.index.values, :, :, :] #Nums of rows,w, H, Channels\n",
    "new_features = new_features / 255\n",
    "keypoints.reset_index(inplace = True, drop = True)"
   ]
  },
  {
   "cell_type": "code",
   "execution_count": 9,
   "id": "9a7ad399",
   "metadata": {
    "execution": {
     "iopub.execute_input": "2021-09-10T21:57:33.289559Z",
     "iopub.status.busy": "2021-09-10T21:57:33.288819Z",
     "iopub.status.idle": "2021-09-10T21:57:33.499306Z",
     "shell.execute_reply": "2021-09-10T21:57:33.498685Z",
     "shell.execute_reply.started": "2021-09-10T21:41:49.363063Z"
    },
    "papermill": {
     "duration": 0.254458,
     "end_time": "2021-09-10T21:57:33.499454",
     "exception": false,
     "start_time": "2021-09-10T21:57:33.244996",
     "status": "completed"
    },
    "tags": []
   },
   "outputs": [
    {
     "data": {
      "text/plain": "<Figure size 640x480 with 1 Axes>",
      "image/png": "[encoded data removed]"
     },
     "metadata": {},
     "output_type": "display_data"
    }
   ],
   "source": [
    "plot_image_landmarks(new_features, keypoints, 5)"
   ]
  },
  {
   "cell_type": "code",
   "execution_count": 10,
   "id": "b13b3c67",
   "metadata": {
    "execution": {
     "iopub.execute_input": "2021-09-10T21:57:33.551747Z",
     "iopub.status.busy": "2021-09-10T21:57:33.550301Z",
     "iopub.status.idle": "2021-09-10T21:57:33.756485Z",
     "shell.execute_reply": "2021-09-10T21:57:33.755863Z",
     "shell.execute_reply.started": "2021-09-10T21:41:49.543811Z"
    },
    "papermill": {
     "duration": 0.233956,
     "end_time": "2021-09-10T21:57:33.756641",
     "exception": false,
     "start_time": "2021-09-10T21:57:33.522685",
     "status": "completed"
    },
    "tags": []
   },
   "outputs": [],
   "source": [
    "x_train, x_test, y_train, y_test = train_test_split(new_features, keypoints, test_size=0.2)"
   ]
  },
  {
   "cell_type": "markdown",
   "id": "9f1e6b04",
   "metadata": {
    "papermill": {
     "duration": 0.023411,
     "end_time": "2021-09-10T21:57:33.802106",
     "exception": false,
     "start_time": "2021-09-10T21:57:33.778695",
     "status": "completed"
    },
    "tags": []
   },
   "source": [
    "# **Our Model**"
   ]
  },
  {
   "cell_type": "code",
   "execution_count": 11,
   "id": "212e02d4",
   "metadata": {
    "execution": {
     "iopub.execute_input": "2021-09-10T21:57:33.852617Z",
     "iopub.status.busy": "2021-09-10T21:57:33.851681Z",
     "iopub.status.idle": "2021-09-10T21:57:33.970496Z",
     "shell.execute_reply": "2021-09-10T21:57:33.970994Z",
     "shell.execute_reply.started": "2021-09-10T21:41:49.705216Z"
    },
    "papermill": {
     "duration": 0.14717,
     "end_time": "2021-09-10T21:57:33.971183",
     "exception": false,
     "start_time": "2021-09-10T21:57:33.824013",
     "status": "completed"
    },
    "tags": []
   },
   "outputs": [],
   "source": [
    "from tqdm.keras import TqdmCallback\n",
    "from tensorflow.keras.models import Sequential\n",
    "from tensorflow.keras.layers import Input, Conv2D, MaxPooling2D, Flatten, Dense, Dropout, LeakyReLU, BatchNormalization\n",
    "from tensorflow.keras.initializers import glorot_uniform\n",
    "from tensorflow.keras.callbacks import ModelCheckpoint\n",
    "from tensorflow.keras.optimizers import SGD, Adam"
   ]
  },
  {
   "cell_type": "markdown",
   "id": "382b94c7",
   "metadata": {
    "papermill": {
     "duration": 0.021845,
     "end_time": "2021-09-10T21:57:34.014192",
     "exception": false,
     "start_time": "2021-09-10T21:57:33.992347",
     "status": "completed"
    },
    "tags": []
   },
   "source": [
    "**kernel_initializer** in Keras : Initializers define the way to set the initial random weights of Keras layers.\n",
    "\n",
    "**glorot_uniform()** : It draws samples from a uniform distribution within [-limit, limit] where limit is sqrt(6 / (fan_in + fan_out)) where fan_in is the number of input units in the weight tensor and fan_out is the number of output units in the weight tensor.\n",
    "\n",
    "We are using **the Mean Squared Error** as we are performing a regression task. A small learning rate is always good if you have a good amount of data"
   ]
  },
  {
   "cell_type": "code",
   "execution_count": 12,
   "id": "6be838e0",
   "metadata": {
    "execution": {
     "iopub.execute_input": "2021-09-10T21:57:34.064362Z",
     "iopub.status.busy": "2021-09-10T21:57:34.063599Z",
     "iopub.status.idle": "2021-09-10T21:57:34.068790Z",
     "shell.execute_reply": "2021-09-10T21:57:34.068254Z",
     "shell.execute_reply.started": "2021-09-10T21:41:49.809367Z"
    },
    "papermill": {
     "duration": 0.032766,
     "end_time": "2021-09-10T21:57:34.068938",
     "exception": false,
     "start_time": "2021-09-10T21:57:34.036172",
     "status": "completed"
    },
    "tags": []
   },
   "outputs": [],
   "source": [
    "img_size = 96"
   ]
  },
  {
   "cell_type": "code",
   "execution_count": 13,
   "id": "1bafd5f1",
   "metadata": {
    "execution": {
     "iopub.execute_input": "2021-09-10T21:57:34.123936Z",
     "iopub.status.busy": "2021-09-10T21:57:34.123044Z",
     "iopub.status.idle": "2021-09-10T21:57:37.305915Z",
     "shell.execute_reply": "2021-09-10T21:57:37.307146Z",
     "shell.execute_reply.started": "2021-09-10T21:41:49.818812Z"
    },
    "papermill": {
     "duration": 3.216837,
     "end_time": "2021-09-10T21:57:37.307432",
     "exception": false,
     "start_time": "2021-09-10T21:57:34.090595",
     "status": "completed"
    },
    "tags": []
   },
   "outputs": [
    {
     "name": "stdout",
     "output_type": "stream",
     "text": [
      "Model: \"sequential\"\n",
      "_________________________________________________________________\n",
      " Layer (type)                Output Shape              Param #   \n",
      "=================================================================\n",
      " batch_normalization (BatchN  (None, 96, 96, 1)        4         \n",
      " ormalization)                                                   \n",
      "                                                                 \n",
      " conv2d (Conv2D)             (None, 96, 96, 32)        320       \n",
      "                                                                 \n",
      " leaky_re_lu (LeakyReLU)     (None, 96, 96, 32)        0         \n",
      "                                                                 \n",
      " max_pooling2d (MaxPooling2D  (None, 48, 48, 32)       0         \n",
      " )                                                               \n",
      "                                                                 \n",
      " dropout (Dropout)           (None, 48, 48, 32)        0         \n",
      "                                                                 \n",
      " batch_normalization_1 (Batc  (None, 48, 48, 32)       128       \n",
      " hNormalization)                                                 \n",
      "                                                                 \n",
      " conv2d_1 (Conv2D)           (None, 48, 48, 64)        18496     \n",
      "                                                                 \n",
      " leaky_re_lu_1 (LeakyReLU)   (None, 48, 48, 64)        0         \n",
      "                                                                 \n",
      " max_pooling2d_1 (MaxPooling  (None, 24, 24, 64)       0         \n",
      " 2D)                                                             \n",
      "                                                                 \n",
      " dropout_1 (Dropout)         (None, 24, 24, 64)        0         \n",
      "                                                                 \n",
      " batch_normalization_2 (Batc  (None, 24, 24, 64)       256       \n",
      " hNormalization)                                                 \n",
      "                                                                 \n",
      " conv2d_2 (Conv2D)           (None, 24, 24, 128)       73856     \n",
      "                                                                 \n",
      " leaky_re_lu_2 (LeakyReLU)   (None, 24, 24, 128)       0         \n",
      "                                                                 \n",
      " max_pooling2d_2 (MaxPooling  (None, 12, 12, 128)      0         \n",
      " 2D)                                                             \n",
      "                                                                 \n",
      " dropout_2 (Dropout)         (None, 12, 12, 128)       0         \n",
      "                                                                 \n",
      " flatten (Flatten)           (None, 18432)             0         \n",
      "                                                                 \n",
      " dense (Dense)               (None, 256)               4718848   \n",
      "                                                                 \n",
      " leaky_re_lu_3 (LeakyReLU)   (None, 256)               0         \n",
      "                                                                 \n",
      " dropout_3 (Dropout)         (None, 256)               0         \n",
      "                                                                 \n",
      " dense_1 (Dense)             (None, 64)                16448     \n",
      "                                                                 \n",
      " leaky_re_lu_4 (LeakyReLU)   (None, 64)                0         \n",
      "                                                                 \n",
      " dense_2 (Dense)             (None, 30)                1950      \n",
      "                                                                 \n",
      "=================================================================\n",
      "Total params: 4,830,306\n",
      "Trainable params: 4,830,112\n",
      "Non-trainable params: 194\n",
      "_________________________________________________________________\n"
     ]
    }
   ],
   "source": [
    "model = Sequential()\n",
    "\n",
    "model.add(Input(shape=(img_size, img_size, 1)))\n",
    "model.add(BatchNormalization())\n",
    "model.add(Conv2D(32, (3,3), padding=\"same\",kernel_initializer=glorot_uniform()))\n",
    "model.add(LeakyReLU(alpha=0.1))\n",
    "model.add(MaxPooling2D(pool_size=(2, 2)))\n",
    "model.add(Dropout(0.2))\n",
    "\n",
    "model.add(BatchNormalization())\n",
    "model.add(Conv2D(64, (3,3), padding=\"same\",kernel_initializer=glorot_uniform()))\n",
    "model.add(LeakyReLU(alpha=0.1))\n",
    "model.add(MaxPooling2D(pool_size=(2, 2)))\n",
    "model.add(Dropout(0.2))\n",
    "\n",
    "model.add(BatchNormalization())\n",
    "model.add(Conv2D(128, (3,3), padding=\"same\",kernel_initializer=glorot_uniform()))\n",
    "model.add(LeakyReLU(alpha=0.1))\n",
    "model.add(MaxPooling2D(pool_size=(2, 2)))\n",
    "model.add(Dropout(0.2))  \n",
    "\n",
    "model.add(Flatten())\n",
    "model.add(Dense(256,kernel_initializer=glorot_uniform()))\n",
    "model.add(LeakyReLU(alpha=0.1))\n",
    "\n",
    "model.add(Dropout(0.5)) \n",
    "\n",
    "model.add(Dense(64,kernel_initializer=glorot_uniform()))\n",
    "model.add(LeakyReLU(alpha=0))\n",
    "\n",
    "model.add(Dense(30,kernel_initializer=glorot_uniform()))\n",
    "\n",
    "model.summary()\n",
    "model.compile(loss='mean_squared_error', optimizer=Adam(), metrics=['mean_squared_error'])"
   ]
  },
  {
   "cell_type": "code",
   "execution_count": 14,
   "id": "832fa21e",
   "metadata": {
    "execution": {
     "iopub.execute_input": "2021-09-10T21:57:37.393674Z",
     "iopub.status.busy": "2021-09-10T21:57:37.392602Z",
     "iopub.status.idle": "2021-09-10T21:57:37.395528Z",
     "shell.execute_reply": "2021-09-10T21:57:37.394719Z",
     "shell.execute_reply.started": "2021-09-10T21:41:52.046665Z"
    },
    "papermill": {
     "duration": 0.049484,
     "end_time": "2021-09-10T21:57:37.395704",
     "exception": false,
     "start_time": "2021-09-10T21:57:37.346220",
     "status": "completed"
    },
    "tags": []
   },
   "outputs": [],
   "source": [
    "BATCH_SIZE = 100\n",
    "EPOCHS = 150"
   ]
  },
  {
   "cell_type": "markdown",
   "id": "1e19dd3d",
   "metadata": {
    "papermill": {
     "duration": 0.038147,
     "end_time": "2021-09-10T21:57:37.471721",
     "exception": false,
     "start_time": "2021-09-10T21:57:37.433574",
     "status": "completed"
    },
    "tags": []
   },
   "source": [
    "# **Training Model**"
   ]
  },
  {
   "cell_type": "code",
   "execution_count": 13,
   "id": "ce802e70",
   "metadata": {
    "execution": {
     "iopub.execute_input": "2021-09-10T21:57:37.555932Z",
     "iopub.status.busy": "2021-09-10T21:57:37.554888Z",
     "iopub.status.idle": "2021-09-10T22:01:52.305145Z",
     "shell.execute_reply": "2021-09-10T22:01:52.304601Z",
     "shell.execute_reply.started": "2021-09-10T21:41:52.055700Z"
    },
    "papermill": {
     "duration": 254.795208,
     "end_time": "2021-09-10T22:01:52.305350",
     "exception": false,
     "start_time": "2021-09-10T21:57:37.510142",
     "status": "completed"
    },
    "tags": []
   },
   "outputs": [
    {
     "name": "stdout",
     "output_type": "stream",
     "text": [
      "Epoch 1/150\n",
      "57/57 [==============================] - 10s 49ms/step - loss: 659.5972 - mean_squared_error: 659.5972 - val_loss: 845.7542 - val_mean_squared_error: 845.7542\n",
      "Epoch 2/150\n",
      "57/57 [==============================] - 2s 28ms/step - loss: 312.2801 - mean_squared_error: 312.2801 - val_loss: 684.4431 - val_mean_squared_error: 684.4431\n",
      "Epoch 3/150\n",
      "57/57 [==============================] - 2s 28ms/step - loss: 241.9560 - mean_squared_error: 241.9560 - val_loss: 915.1838 - val_mean_squared_error: 915.1838\n",
      "Epoch 4/150\n",
      "57/57 [==============================] - 2s 28ms/step - loss: 193.1594 - mean_squared_error: 193.1594 - val_loss: 996.1920 - val_mean_squared_error: 996.1920\n",
      "Epoch 5/150\n",
      "57/57 [==============================] - 2s 28ms/step - loss: 171.7250 - mean_squared_error: 171.7250 - val_loss: 1182.2400 - val_mean_squared_error: 1182.2400\n",
      "Epoch 6/150\n",
      "57/57 [==============================] - 2s 28ms/step - loss: 175.1323 - mean_squared_error: 175.1323 - val_loss: 879.5189 - val_mean_squared_error: 879.5189\n",
      "Epoch 7/150\n",
      "57/57 [==============================] - 2s 28ms/step - loss: 143.1975 - mean_squared_error: 143.1975 - val_loss: 669.7585 - val_mean_squared_error: 669.7585\n",
      "Epoch 8/150\n",
      "57/57 [==============================] - 2s 29ms/step - loss: 139.6431 - mean_squared_error: 139.6431 - val_loss: 718.4354 - val_mean_squared_error: 718.4354\n",
      "Epoch 9/150\n",
      "57/57 [==============================] - 2s 28ms/step - loss: 124.6540 - mean_squared_error: 124.6540 - val_loss: 584.4111 - val_mean_squared_error: 584.4111\n",
      "Epoch 10/150\n",
      "57/57 [==============================] - 2s 28ms/step - loss: 120.3639 - mean_squared_error: 120.3639 - val_loss: 403.9566 - val_mean_squared_error: 403.9566\n",
      "Epoch 11/150\n",
      "57/57 [==============================] - 2s 28ms/step - loss: 105.1591 - mean_squared_error: 105.1591 - val_loss: 346.7400 - val_mean_squared_error: 346.7400\n",
      "Epoch 12/150\n",
      "57/57 [==============================] - 2s 28ms/step - loss: 105.0114 - mean_squared_error: 105.0114 - val_loss: 238.2139 - val_mean_squared_error: 238.2139\n",
      "Epoch 13/150\n",
      "57/57 [==============================] - 2s 28ms/step - loss: 85.8438 - mean_squared_error: 85.8438 - val_loss: 249.5797 - val_mean_squared_error: 249.5797\n",
      "Epoch 14/150\n",
      "57/57 [==============================] - 2s 29ms/step - loss: 97.4559 - mean_squared_error: 97.4559 - val_loss: 167.0842 - val_mean_squared_error: 167.0842\n",
      "Epoch 15/150\n",
      "57/57 [==============================] - 2s 32ms/step - loss: 69.1399 - mean_squared_error: 69.1399 - val_loss: 118.3416 - val_mean_squared_error: 118.3416\n",
      "Epoch 16/150\n",
      "57/57 [==============================] - 2s 28ms/step - loss: 63.1758 - mean_squared_error: 63.1758 - val_loss: 108.9178 - val_mean_squared_error: 108.9178\n",
      "Epoch 17/150\n",
      "57/57 [==============================] - 2s 28ms/step - loss: 59.4445 - mean_squared_error: 59.4445 - val_loss: 143.4039 - val_mean_squared_error: 143.4039\n",
      "Epoch 18/150\n",
      "57/57 [==============================] - 2s 28ms/step - loss: 55.5862 - mean_squared_error: 55.5862 - val_loss: 108.7195 - val_mean_squared_error: 108.7195\n",
      "Epoch 19/150\n",
      "57/57 [==============================] - 2s 28ms/step - loss: 50.9952 - mean_squared_error: 50.9952 - val_loss: 124.8623 - val_mean_squared_error: 124.8623\n",
      "Epoch 20/150\n",
      "57/57 [==============================] - 2s 28ms/step - loss: 46.0722 - mean_squared_error: 46.0722 - val_loss: 107.8744 - val_mean_squared_error: 107.8744\n",
      "Epoch 21/150\n",
      "57/57 [==============================] - 2s 30ms/step - loss: 44.4126 - mean_squared_error: 44.4126 - val_loss: 123.7518 - val_mean_squared_error: 123.7518\n",
      "Epoch 22/150\n",
      "57/57 [==============================] - 2s 28ms/step - loss: 40.4926 - mean_squared_error: 40.4926 - val_loss: 135.5165 - val_mean_squared_error: 135.5165\n",
      "Epoch 23/150\n",
      "57/57 [==============================] - 2s 28ms/step - loss: 44.8084 - mean_squared_error: 44.8084 - val_loss: 137.7074 - val_mean_squared_error: 137.7074\n",
      "Epoch 24/150\n",
      "57/57 [==============================] - 2s 28ms/step - loss: 42.3432 - mean_squared_error: 42.3432 - val_loss: 140.5305 - val_mean_squared_error: 140.5305\n",
      "Epoch 25/150\n",
      "57/57 [==============================] - 2s 28ms/step - loss: 41.9615 - mean_squared_error: 41.9615 - val_loss: 122.6183 - val_mean_squared_error: 122.6183\n",
      "Epoch 26/150\n",
      "57/57 [==============================] - 2s 28ms/step - loss: 38.7216 - mean_squared_error: 38.7216 - val_loss: 125.3839 - val_mean_squared_error: 125.3839\n",
      "Epoch 27/150\n",
      "57/57 [==============================] - 2s 28ms/step - loss: 35.4648 - mean_squared_error: 35.4648 - val_loss: 117.1103 - val_mean_squared_error: 117.1103\n",
      "Epoch 28/150\n",
      "57/57 [==============================] - 2s 29ms/step - loss: 34.4685 - mean_squared_error: 34.4685 - val_loss: 121.6076 - val_mean_squared_error: 121.6076\n",
      "Epoch 29/150\n",
      "57/57 [==============================] - 2s 28ms/step - loss: 32.5160 - mean_squared_error: 32.5160 - val_loss: 111.3519 - val_mean_squared_error: 111.3519\n",
      "Epoch 30/150\n",
      "57/57 [==============================] - 2s 28ms/step - loss: 39.6806 - mean_squared_error: 39.6806 - val_loss: 117.8411 - val_mean_squared_error: 117.8411\n",
      "Epoch 31/150\n",
      "57/57 [==============================] - 2s 28ms/step - loss: 30.7659 - mean_squared_error: 30.7659 - val_loss: 133.9998 - val_mean_squared_error: 133.9998\n",
      "Epoch 32/150\n",
      "57/57 [==============================] - 2s 29ms/step - loss: 31.8120 - mean_squared_error: 31.8120 - val_loss: 114.5182 - val_mean_squared_error: 114.5182\n",
      "Epoch 33/150\n",
      "57/57 [==============================] - 2s 28ms/step - loss: 29.4394 - mean_squared_error: 29.4394 - val_loss: 124.6213 - val_mean_squared_error: 124.6213\n",
      "Epoch 34/150\n",
      "57/57 [==============================] - 2s 28ms/step - loss: 32.6197 - mean_squared_error: 32.6197 - val_loss: 110.8774 - val_mean_squared_error: 110.8774\n",
      "Epoch 35/150\n",
      "57/57 [==============================] - 2s 33ms/step - loss: 28.3299 - mean_squared_error: 28.3299 - val_loss: 108.7881 - val_mean_squared_error: 108.7881\n",
      "Epoch 36/150\n",
      "57/57 [==============================] - 2s 28ms/step - loss: 29.1380 - mean_squared_error: 29.1380 - val_loss: 115.3804 - val_mean_squared_error: 115.3804\n",
      "Epoch 37/150\n",
      "57/57 [==============================] - 2s 28ms/step - loss: 33.5470 - mean_squared_error: 33.5470 - val_loss: 124.7702 - val_mean_squared_error: 124.7702\n",
      "Epoch 38/150\n",
      "57/57 [==============================] - 2s 28ms/step - loss: 38.3704 - mean_squared_error: 38.3704 - val_loss: 109.9534 - val_mean_squared_error: 109.9534\n",
      "Epoch 39/150\n",
      "57/57 [==============================] - 2s 28ms/step - loss: 30.2340 - mean_squared_error: 30.2340 - val_loss: 109.5819 - val_mean_squared_error: 109.5819\n",
      "Epoch 40/150\n",
      "57/57 [==============================] - 2s 28ms/step - loss: 27.9388 - mean_squared_error: 27.9388 - val_loss: 107.9152 - val_mean_squared_error: 107.9152\n",
      "Epoch 41/150\n",
      "57/57 [==============================] - 2s 30ms/step - loss: 28.1285 - mean_squared_error: 28.1285 - val_loss: 116.9175 - val_mean_squared_error: 116.9175\n",
      "Epoch 42/150\n",
      "57/57 [==============================] - 2s 29ms/step - loss: 26.8694 - mean_squared_error: 26.8694 - val_loss: 109.3070 - val_mean_squared_error: 109.3070\n",
      "Epoch 43/150\n",
      "57/57 [==============================] - 2s 28ms/step - loss: 26.0303 - mean_squared_error: 26.0303 - val_loss: 115.1965 - val_mean_squared_error: 115.1965\n",
      "Epoch 44/150\n",
      "57/57 [==============================] - 2s 28ms/step - loss: 25.1694 - mean_squared_error: 25.1694 - val_loss: 111.1234 - val_mean_squared_error: 111.1234\n",
      "Epoch 45/150\n",
      "57/57 [==============================] - 2s 29ms/step - loss: 25.7662 - mean_squared_error: 25.7662 - val_loss: 110.5743 - val_mean_squared_error: 110.5743\n",
      "Epoch 46/150\n",
      "57/57 [==============================] - 2s 28ms/step - loss: 23.8433 - mean_squared_error: 23.8433 - val_loss: 107.2333 - val_mean_squared_error: 107.2333\n",
      "Epoch 47/150\n",
      "57/57 [==============================] - 2s 28ms/step - loss: 25.6634 - mean_squared_error: 25.6634 - val_loss: 123.0132 - val_mean_squared_error: 123.0132\n",
      "Epoch 48/150\n",
      "57/57 [==============================] - 2s 30ms/step - loss: 27.4969 - mean_squared_error: 27.4969 - val_loss: 118.2839 - val_mean_squared_error: 118.2839\n",
      "Epoch 49/150\n",
      "57/57 [==============================] - 2s 28ms/step - loss: 27.6244 - mean_squared_error: 27.6244 - val_loss: 116.1459 - val_mean_squared_error: 116.1459\n",
      "Epoch 50/150\n",
      "57/57 [==============================] - 2s 28ms/step - loss: 27.6825 - mean_squared_error: 27.6825 - val_loss: 115.9019 - val_mean_squared_error: 115.9019\n",
      "Epoch 51/150\n",
      "57/57 [==============================] - 2s 29ms/step - loss: 29.2069 - mean_squared_error: 29.2069 - val_loss: 117.5461 - val_mean_squared_error: 117.5461\n",
      "Epoch 52/150\n",
      "57/57 [==============================] - 2s 28ms/step - loss: 24.1341 - mean_squared_error: 24.1341 - val_loss: 110.6833 - val_mean_squared_error: 110.6833\n",
      "Epoch 53/150\n",
      "57/57 [==============================] - 2s 28ms/step - loss: 30.3363 - mean_squared_error: 30.3363 - val_loss: 115.1798 - val_mean_squared_error: 115.1798\n",
      "Epoch 54/150\n",
      "57/57 [==============================] - 2s 28ms/step - loss: 25.0622 - mean_squared_error: 25.0622 - val_loss: 112.9570 - val_mean_squared_error: 112.9570\n",
      "Epoch 55/150\n",
      "57/57 [==============================] - 2s 33ms/step - loss: 23.3791 - mean_squared_error: 23.3791 - val_loss: 113.2688 - val_mean_squared_error: 113.2688\n",
      "Epoch 56/150\n",
      "57/57 [==============================] - 2s 28ms/step - loss: 26.7800 - mean_squared_error: 26.7800 - val_loss: 116.1993 - val_mean_squared_error: 116.1993\n",
      "Epoch 57/150\n",
      "57/57 [==============================] - 2s 28ms/step - loss: 23.4891 - mean_squared_error: 23.4891 - val_loss: 110.3229 - val_mean_squared_error: 110.3229\n",
      "Epoch 58/150\n",
      "57/57 [==============================] - 2s 28ms/step - loss: 22.1344 - mean_squared_error: 22.1344 - val_loss: 113.6229 - val_mean_squared_error: 113.6229\n",
      "Epoch 59/150\n",
      "57/57 [==============================] - 2s 28ms/step - loss: 24.2215 - mean_squared_error: 24.2215 - val_loss: 116.2966 - val_mean_squared_error: 116.2966\n",
      "Epoch 60/150\n",
      "57/57 [==============================] - 2s 28ms/step - loss: 22.6261 - mean_squared_error: 22.6261 - val_loss: 114.9757 - val_mean_squared_error: 114.9757\n",
      "Epoch 61/150\n",
      "57/57 [==============================] - 2s 29ms/step - loss: 23.1795 - mean_squared_error: 23.1795 - val_loss: 117.0276 - val_mean_squared_error: 117.0276\n",
      "Epoch 62/150\n",
      "57/57 [==============================] - 2s 29ms/step - loss: 24.4751 - mean_squared_error: 24.4751 - val_loss: 111.2995 - val_mean_squared_error: 111.2995\n",
      "Epoch 63/150\n",
      "57/57 [==============================] - 2s 28ms/step - loss: 26.6998 - mean_squared_error: 26.6998 - val_loss: 139.8918 - val_mean_squared_error: 139.8918\n",
      "Epoch 64/150\n",
      "57/57 [==============================] - 2s 28ms/step - loss: 24.1973 - mean_squared_error: 24.1973 - val_loss: 115.2370 - val_mean_squared_error: 115.2369\n",
      "Epoch 65/150\n",
      "57/57 [==============================] - 2s 28ms/step - loss: 23.9147 - mean_squared_error: 23.9147 - val_loss: 121.3748 - val_mean_squared_error: 121.3748\n",
      "Epoch 66/150\n",
      "57/57 [==============================] - 2s 28ms/step - loss: 25.4899 - mean_squared_error: 25.4899 - val_loss: 124.4885 - val_mean_squared_error: 124.4885\n",
      "Epoch 67/150\n",
      "57/57 [==============================] - 2s 28ms/step - loss: 26.3294 - mean_squared_error: 26.3294 - val_loss: 116.0998 - val_mean_squared_error: 116.0998\n",
      "Epoch 68/150\n",
      "57/57 [==============================] - 2s 30ms/step - loss: 26.1711 - mean_squared_error: 26.1711 - val_loss: 140.1258 - val_mean_squared_error: 140.1258\n",
      "Epoch 69/150\n",
      "57/57 [==============================] - 2s 28ms/step - loss: 24.5449 - mean_squared_error: 24.5449 - val_loss: 143.3110 - val_mean_squared_error: 143.3110\n",
      "Epoch 70/150\n",
      "57/57 [==============================] - 2s 30ms/step - loss: 23.8884 - mean_squared_error: 23.8884 - val_loss: 121.4705 - val_mean_squared_error: 121.4705\n",
      "Epoch 71/150\n",
      "57/57 [==============================] - 2s 28ms/step - loss: 23.7574 - mean_squared_error: 23.7574 - val_loss: 123.1975 - val_mean_squared_error: 123.1975\n",
      "Epoch 72/150\n",
      "57/57 [==============================] - 2s 28ms/step - loss: 21.9563 - mean_squared_error: 21.9563 - val_loss: 116.3244 - val_mean_squared_error: 116.3244\n",
      "Epoch 73/150\n",
      "57/57 [==============================] - 2s 28ms/step - loss: 23.3395 - mean_squared_error: 23.3395 - val_loss: 123.3753 - val_mean_squared_error: 123.3753\n",
      "Epoch 74/150\n",
      "57/57 [==============================] - 2s 28ms/step - loss: 22.4762 - mean_squared_error: 22.4762 - val_loss: 112.8214 - val_mean_squared_error: 112.8214\n",
      "Epoch 75/150\n",
      "57/57 [==============================] - 2s 34ms/step - loss: 22.0659 - mean_squared_error: 22.0659 - val_loss: 106.1883 - val_mean_squared_error: 106.1883\n",
      "Epoch 76/150\n",
      "57/57 [==============================] - 2s 29ms/step - loss: 23.2389 - mean_squared_error: 23.2389 - val_loss: 109.3625 - val_mean_squared_error: 109.3625\n",
      "Epoch 77/150\n",
      "57/57 [==============================] - 2s 29ms/step - loss: 22.4255 - mean_squared_error: 22.4255 - val_loss: 125.5570 - val_mean_squared_error: 125.5570\n",
      "Epoch 78/150\n",
      "57/57 [==============================] - 2s 28ms/step - loss: 20.5076 - mean_squared_error: 20.5076 - val_loss: 119.8434 - val_mean_squared_error: 119.8434\n",
      "Epoch 79/150\n",
      "57/57 [==============================] - 2s 28ms/step - loss: 20.4583 - mean_squared_error: 20.4583 - val_loss: 114.4150 - val_mean_squared_error: 114.4150\n",
      "Epoch 80/150\n",
      "57/57 [==============================] - 2s 28ms/step - loss: 23.3646 - mean_squared_error: 23.3646 - val_loss: 113.0221 - val_mean_squared_error: 113.0221\n",
      "Epoch 81/150\n",
      "57/57 [==============================] - 2s 28ms/step - loss: 23.6714 - mean_squared_error: 23.6714 - val_loss: 127.6834 - val_mean_squared_error: 127.6834\n",
      "Epoch 82/150\n",
      "57/57 [==============================] - 2s 30ms/step - loss: 19.9896 - mean_squared_error: 19.9896 - val_loss: 114.2111 - val_mean_squared_error: 114.2111\n",
      "Epoch 83/150\n",
      "57/57 [==============================] - 2s 29ms/step - loss: 20.7515 - mean_squared_error: 20.7515 - val_loss: 118.7669 - val_mean_squared_error: 118.7669\n",
      "Epoch 84/150\n",
      "57/57 [==============================] - 2s 29ms/step - loss: 19.6335 - mean_squared_error: 19.6335 - val_loss: 104.1257 - val_mean_squared_error: 104.1257\n",
      "Epoch 85/150\n",
      "57/57 [==============================] - 2s 28ms/step - loss: 19.7798 - mean_squared_error: 19.7798 - val_loss: 120.4398 - val_mean_squared_error: 120.4398\n",
      "Epoch 86/150\n",
      "57/57 [==============================] - 2s 28ms/step - loss: 21.8206 - mean_squared_error: 21.8206 - val_loss: 114.6772 - val_mean_squared_error: 114.6772\n",
      "Epoch 87/150\n",
      "57/57 [==============================] - 2s 28ms/step - loss: 20.1102 - mean_squared_error: 20.1102 - val_loss: 117.8202 - val_mean_squared_error: 117.8202\n",
      "Epoch 88/150\n",
      "57/57 [==============================] - 2s 30ms/step - loss: 20.5049 - mean_squared_error: 20.5049 - val_loss: 149.1188 - val_mean_squared_error: 149.1188\n",
      "Epoch 89/150\n",
      "57/57 [==============================] - 2s 31ms/step - loss: 18.8875 - mean_squared_error: 18.8875 - val_loss: 117.4510 - val_mean_squared_error: 117.4510\n",
      "Epoch 90/150\n",
      "57/57 [==============================] - 2s 29ms/step - loss: 19.9315 - mean_squared_error: 19.9315 - val_loss: 114.2620 - val_mean_squared_error: 114.2620\n",
      "Epoch 91/150\n",
      "57/57 [==============================] - 2s 28ms/step - loss: 18.5803 - mean_squared_error: 18.5803 - val_loss: 109.5950 - val_mean_squared_error: 109.5950\n",
      "Epoch 92/150\n",
      "57/57 [==============================] - 2s 28ms/step - loss: 18.8333 - mean_squared_error: 18.8333 - val_loss: 125.0093 - val_mean_squared_error: 125.0093\n",
      "Epoch 93/150\n",
      "57/57 [==============================] - 2s 28ms/step - loss: 19.3787 - mean_squared_error: 19.3787 - val_loss: 127.7350 - val_mean_squared_error: 127.7350\n",
      "Epoch 94/150\n",
      "57/57 [==============================] - 2s 28ms/step - loss: 22.7323 - mean_squared_error: 22.7323 - val_loss: 120.7937 - val_mean_squared_error: 120.7937\n",
      "Epoch 95/150\n",
      "57/57 [==============================] - 2s 33ms/step - loss: 22.3744 - mean_squared_error: 22.3744 - val_loss: 112.1446 - val_mean_squared_error: 112.1446\n",
      "Epoch 96/150\n",
      "57/57 [==============================] - 2s 29ms/step - loss: 21.8846 - mean_squared_error: 21.8846 - val_loss: 116.9176 - val_mean_squared_error: 116.9176\n",
      "Epoch 97/150\n",
      "57/57 [==============================] - 2s 28ms/step - loss: 19.1718 - mean_squared_error: 19.1718 - val_loss: 112.6770 - val_mean_squared_error: 112.6770\n",
      "Epoch 98/150\n",
      "57/57 [==============================] - 2s 28ms/step - loss: 21.0679 - mean_squared_error: 21.0679 - val_loss: 112.1019 - val_mean_squared_error: 112.1019\n",
      "Epoch 99/150\n",
      "57/57 [==============================] - 2s 27ms/step - loss: 18.7875 - mean_squared_error: 18.7875 - val_loss: 109.0390 - val_mean_squared_error: 109.0390\n",
      "Epoch 100/150\n",
      "57/57 [==============================] - 2s 28ms/step - loss: 18.3114 - mean_squared_error: 18.3114 - val_loss: 117.4751 - val_mean_squared_error: 117.4751\n",
      "Epoch 101/150\n",
      "57/57 [==============================] - 2s 28ms/step - loss: 21.8503 - mean_squared_error: 21.8503 - val_loss: 125.7395 - val_mean_squared_error: 125.7395\n",
      "Epoch 102/150\n",
      "57/57 [==============================] - 2s 29ms/step - loss: 21.8298 - mean_squared_error: 21.8298 - val_loss: 124.9254 - val_mean_squared_error: 124.9254\n",
      "Epoch 103/150\n",
      "57/57 [==============================] - 2s 28ms/step - loss: 19.2566 - mean_squared_error: 19.2566 - val_loss: 135.7067 - val_mean_squared_error: 135.7067\n",
      "Epoch 104/150\n",
      "57/57 [==============================] - 2s 28ms/step - loss: 21.0913 - mean_squared_error: 21.0913 - val_loss: 109.9036 - val_mean_squared_error: 109.9036\n",
      "Epoch 105/150\n",
      "57/57 [==============================] - 2s 28ms/step - loss: 19.4604 - mean_squared_error: 19.4604 - val_loss: 114.5490 - val_mean_squared_error: 114.5490\n",
      "Epoch 106/150\n",
      "57/57 [==============================] - 2s 28ms/step - loss: 18.6669 - mean_squared_error: 18.6669 - val_loss: 119.7764 - val_mean_squared_error: 119.7764\n",
      "Epoch 107/150\n",
      "57/57 [==============================] - 2s 28ms/step - loss: 18.9247 - mean_squared_error: 18.9247 - val_loss: 117.3702 - val_mean_squared_error: 117.3702\n",
      "Epoch 108/150\n",
      "57/57 [==============================] - 2s 31ms/step - loss: 16.5938 - mean_squared_error: 16.5938 - val_loss: 111.7442 - val_mean_squared_error: 111.7442\n",
      "Epoch 109/150\n",
      "57/57 [==============================] - 2s 31ms/step - loss: 19.7938 - mean_squared_error: 19.7938 - val_loss: 121.2830 - val_mean_squared_error: 121.2830\n",
      "Epoch 110/150\n",
      "57/57 [==============================] - 2s 28ms/step - loss: 17.9980 - mean_squared_error: 17.9980 - val_loss: 111.0712 - val_mean_squared_error: 111.0712\n",
      "Epoch 111/150\n",
      "57/57 [==============================] - 2s 28ms/step - loss: 16.7433 - mean_squared_error: 16.7433 - val_loss: 117.8203 - val_mean_squared_error: 117.8203\n",
      "Epoch 112/150\n",
      "57/57 [==============================] - 2s 28ms/step - loss: 17.3636 - mean_squared_error: 17.3636 - val_loss: 118.1859 - val_mean_squared_error: 118.1859\n",
      "Epoch 113/150\n",
      "57/57 [==============================] - 2s 28ms/step - loss: 18.0489 - mean_squared_error: 18.0489 - val_loss: 117.6854 - val_mean_squared_error: 117.6854\n",
      "Epoch 114/150\n",
      "57/57 [==============================] - 2s 28ms/step - loss: 18.4220 - mean_squared_error: 18.4220 - val_loss: 121.4604 - val_mean_squared_error: 121.4604\n",
      "Epoch 115/150\n",
      "57/57 [==============================] - 2s 32ms/step - loss: 19.7391 - mean_squared_error: 19.7391 - val_loss: 113.5082 - val_mean_squared_error: 113.5082\n",
      "Epoch 116/150\n",
      "57/57 [==============================] - 2s 30ms/step - loss: 19.3188 - mean_squared_error: 19.3188 - val_loss: 118.9928 - val_mean_squared_error: 118.9928\n",
      "Epoch 117/150\n",
      "57/57 [==============================] - 2s 28ms/step - loss: 17.0211 - mean_squared_error: 17.0211 - val_loss: 112.1924 - val_mean_squared_error: 112.1924\n",
      "Epoch 118/150\n",
      "57/57 [==============================] - 2s 28ms/step - loss: 17.6960 - mean_squared_error: 17.6960 - val_loss: 119.9455 - val_mean_squared_error: 119.9455\n",
      "Epoch 119/150\n",
      "57/57 [==============================] - 2s 28ms/step - loss: 18.3893 - mean_squared_error: 18.3893 - val_loss: 134.9463 - val_mean_squared_error: 134.9463\n",
      "Epoch 120/150\n",
      "57/57 [==============================] - 2s 28ms/step - loss: 18.1234 - mean_squared_error: 18.1234 - val_loss: 121.9962 - val_mean_squared_error: 121.9962\n",
      "Epoch 121/150\n",
      "57/57 [==============================] - 2s 28ms/step - loss: 19.1727 - mean_squared_error: 19.1727 - val_loss: 123.5335 - val_mean_squared_error: 123.5335\n",
      "Epoch 122/150\n",
      "57/57 [==============================] - 2s 29ms/step - loss: 20.4412 - mean_squared_error: 20.4412 - val_loss: 123.8946 - val_mean_squared_error: 123.8946\n",
      "Epoch 123/150\n",
      "57/57 [==============================] - 2s 28ms/step - loss: 16.8067 - mean_squared_error: 16.8067 - val_loss: 125.2605 - val_mean_squared_error: 125.2605\n",
      "Epoch 124/150\n",
      "57/57 [==============================] - 2s 28ms/step - loss: 18.5459 - mean_squared_error: 18.5459 - val_loss: 113.3018 - val_mean_squared_error: 113.3018\n",
      "Epoch 125/150\n",
      "57/57 [==============================] - 2s 28ms/step - loss: 17.3444 - mean_squared_error: 17.3444 - val_loss: 121.1956 - val_mean_squared_error: 121.1956\n",
      "Epoch 126/150\n",
      "57/57 [==============================] - 2s 28ms/step - loss: 17.7574 - mean_squared_error: 17.7574 - val_loss: 114.8355 - val_mean_squared_error: 114.8355\n",
      "Epoch 127/150\n",
      "57/57 [==============================] - 2s 29ms/step - loss: 19.6395 - mean_squared_error: 19.6395 - val_loss: 111.5299 - val_mean_squared_error: 111.5299\n",
      "Epoch 128/150\n",
      "57/57 [==============================] - 2s 32ms/step - loss: 17.9205 - mean_squared_error: 17.9205 - val_loss: 110.8327 - val_mean_squared_error: 110.8327\n",
      "Epoch 129/150\n",
      "57/57 [==============================] - 2s 31ms/step - loss: 20.6619 - mean_squared_error: 20.6619 - val_loss: 126.3673 - val_mean_squared_error: 126.3673\n",
      "Epoch 130/150\n",
      "57/57 [==============================] - 2s 28ms/step - loss: 20.5727 - mean_squared_error: 20.5727 - val_loss: 129.7698 - val_mean_squared_error: 129.7698\n",
      "Epoch 131/150\n",
      "57/57 [==============================] - 2s 28ms/step - loss: 20.1950 - mean_squared_error: 20.1950 - val_loss: 122.8120 - val_mean_squared_error: 122.8120\n",
      "Epoch 132/150\n",
      "57/57 [==============================] - 2s 28ms/step - loss: 19.1093 - mean_squared_error: 19.1093 - val_loss: 119.4062 - val_mean_squared_error: 119.4062\n",
      "Epoch 133/150\n",
      "57/57 [==============================] - 2s 28ms/step - loss: 17.8306 - mean_squared_error: 17.8306 - val_loss: 120.9496 - val_mean_squared_error: 120.9496\n",
      "Epoch 134/150\n",
      "57/57 [==============================] - 2s 28ms/step - loss: 21.6106 - mean_squared_error: 21.6106 - val_loss: 115.3652 - val_mean_squared_error: 115.3652\n",
      "Epoch 135/150\n",
      "57/57 [==============================] - 2s 33ms/step - loss: 17.1065 - mean_squared_error: 17.1065 - val_loss: 115.5784 - val_mean_squared_error: 115.5784\n",
      "Epoch 136/150\n",
      "57/57 [==============================] - 2s 30ms/step - loss: 17.6445 - mean_squared_error: 17.6445 - val_loss: 118.2175 - val_mean_squared_error: 118.2175\n",
      "Epoch 137/150\n",
      "57/57 [==============================] - 2s 28ms/step - loss: 15.4079 - mean_squared_error: 15.4079 - val_loss: 131.0196 - val_mean_squared_error: 131.0196\n",
      "Epoch 138/150\n",
      "57/57 [==============================] - 2s 28ms/step - loss: 19.9640 - mean_squared_error: 19.9640 - val_loss: 121.7480 - val_mean_squared_error: 121.7480\n",
      "Epoch 139/150\n",
      "57/57 [==============================] - 2s 28ms/step - loss: 17.8409 - mean_squared_error: 17.8409 - val_loss: 112.1290 - val_mean_squared_error: 112.1290\n",
      "Epoch 140/150\n",
      "57/57 [==============================] - 2s 28ms/step - loss: 17.1671 - mean_squared_error: 17.1671 - val_loss: 119.3090 - val_mean_squared_error: 119.3090\n",
      "Epoch 141/150\n",
      "57/57 [==============================] - 2s 28ms/step - loss: 17.0137 - mean_squared_error: 17.0137 - val_loss: 114.2195 - val_mean_squared_error: 114.2195\n",
      "Epoch 142/150\n",
      "57/57 [==============================] - 2s 29ms/step - loss: 19.5252 - mean_squared_error: 19.5252 - val_loss: 134.7592 - val_mean_squared_error: 134.7592\n",
      "Epoch 143/150\n",
      "57/57 [==============================] - 2s 28ms/step - loss: 16.6815 - mean_squared_error: 16.6815 - val_loss: 119.1696 - val_mean_squared_error: 119.1696\n",
      "Epoch 144/150\n",
      "57/57 [==============================] - 2s 28ms/step - loss: 15.5614 - mean_squared_error: 15.5614 - val_loss: 117.1030 - val_mean_squared_error: 117.1030\n",
      "Epoch 145/150\n",
      "57/57 [==============================] - 2s 28ms/step - loss: 17.2963 - mean_squared_error: 17.2963 - val_loss: 122.3054 - val_mean_squared_error: 122.3054\n",
      "Epoch 146/150\n",
      "57/57 [==============================] - 2s 28ms/step - loss: 17.9319 - mean_squared_error: 17.9319 - val_loss: 118.4548 - val_mean_squared_error: 118.4548\n",
      "Epoch 147/150\n",
      "57/57 [==============================] - 2s 28ms/step - loss: 17.9407 - mean_squared_error: 17.9407 - val_loss: 122.8861 - val_mean_squared_error: 122.8861\n",
      "Epoch 148/150\n",
      "57/57 [==============================] - 2s 29ms/step - loss: 17.7498 - mean_squared_error: 17.7498 - val_loss: 124.3575 - val_mean_squared_error: 124.3575\n",
      "Epoch 149/150\n",
      "57/57 [==============================] - 2s 31ms/step - loss: 17.2153 - mean_squared_error: 17.2153 - val_loss: 118.9883 - val_mean_squared_error: 118.9883\n",
      "Epoch 150/150\n",
      "57/57 [==============================] - 2s 28ms/step - loss: 17.1816 - mean_squared_error: 17.1816 - val_loss: 124.3063 - val_mean_squared_error: 124.3063\n"
     ]
    }
   ],
   "source": [
    "history = model.fit(\n",
    "    x_train, y_train,\n",
    "    batch_size=BATCH_SIZE,\n",
    "    epochs=EPOCHS,\n",
    "    validation_data=(x_test, y_test),\n",
    "    shuffle=True,\n",
    "    verbose=1,\n",
    ")\n"
   ]
  },
  {
   "cell_type": "code",
   "execution_count": 15,
   "id": "64eb51ea",
   "metadata": {
    "execution": {
     "iopub.execute_input": "2021-09-10T22:01:55.114534Z",
     "iopub.status.busy": "2021-09-10T22:01:55.113481Z",
     "iopub.status.idle": "2021-09-10T22:01:55.287073Z",
     "shell.execute_reply": "2021-09-10T22:01:55.287628Z",
     "shell.execute_reply.started": "2021-09-10T21:45:53.658683Z"
    },
    "papermill": {
     "duration": 1.589387,
     "end_time": "2021-09-10T22:01:55.287800",
     "exception": false,
     "start_time": "2021-09-10T22:01:53.698413",
     "status": "completed"
    },
    "tags": []
   },
   "outputs": [
    {
     "ename": "NameError",
     "evalue": "name 'history' is not defined",
     "output_type": "error",
     "traceback": [
      "\u001B[1;31m---------------------------------------------------------------------------\u001B[0m",
      "\u001B[1;31mNameError\u001B[0m                                 Traceback (most recent call last)",
      "Cell \u001B[1;32mIn [15], line 1\u001B[0m\n\u001B[1;32m----> 1\u001B[0m plt\u001B[38;5;241m.\u001B[39mplot(\u001B[43mhistory\u001B[49m\u001B[38;5;241m.\u001B[39mhistory[\u001B[38;5;124m'\u001B[39m\u001B[38;5;124mmean_squared_error\u001B[39m\u001B[38;5;124m'\u001B[39m], label\u001B[38;5;241m=\u001B[39m\u001B[38;5;124m'\u001B[39m\u001B[38;5;124mMSE (training data)\u001B[39m\u001B[38;5;124m'\u001B[39m)\n\u001B[0;32m      2\u001B[0m plt\u001B[38;5;241m.\u001B[39mplot(history\u001B[38;5;241m.\u001B[39mhistory[\u001B[38;5;124m'\u001B[39m\u001B[38;5;124mval_mean_squared_error\u001B[39m\u001B[38;5;124m'\u001B[39m], label\u001B[38;5;241m=\u001B[39m\u001B[38;5;124m'\u001B[39m\u001B[38;5;124mMSE (validation data)\u001B[39m\u001B[38;5;124m'\u001B[39m)\n\u001B[0;32m      3\u001B[0m plt\u001B[38;5;241m.\u001B[39mtitle(\u001B[38;5;124m'\u001B[39m\u001B[38;5;124mMSE for Facial keypoints\u001B[39m\u001B[38;5;124m'\u001B[39m)\n",
      "\u001B[1;31mNameError\u001B[0m: name 'history' is not defined"
     ]
    }
   ],
   "source": [
    "plt.plot(history.history['mean_squared_error'], label='MSE (training data)')\n",
    "plt.plot(history.history['val_mean_squared_error'], label='MSE (validation data)')\n",
    "plt.title('MSE for Facial keypoints')\n",
    "plt.ylabel('MSE value')\n",
    "plt.xlabel('No. epoch')\n",
    "plt.legend(loc=\"upper left\")\n",
    "plt.show()"
   ]
  },
  {
   "cell_type": "markdown",
   "id": "411c82c9",
   "metadata": {
    "papermill": {
     "duration": 1.376029,
     "end_time": "2021-09-10T22:01:58.036807",
     "exception": false,
     "start_time": "2021-09-10T22:01:56.660778",
     "status": "completed"
    },
    "tags": []
   },
   "source": [
    "# **Model Evaluation**"
   ]
  },
  {
   "cell_type": "code",
   "execution_count": 15,
   "id": "2e0be35a",
   "metadata": {
    "execution": {
     "iopub.execute_input": "2021-09-10T22:02:01.597516Z",
     "iopub.status.busy": "2021-09-10T22:02:01.596559Z",
     "iopub.status.idle": "2021-09-10T22:02:02.046202Z",
     "shell.execute_reply": "2021-09-10T22:02:02.045666Z",
     "shell.execute_reply.started": "2021-09-10T21:45:53.808123Z"
    },
    "papermill": {
     "duration": 2.648386,
     "end_time": "2021-09-10T22:02:02.046345",
     "exception": false,
     "start_time": "2021-09-10T22:01:59.397959",
     "status": "completed"
    },
    "tags": []
   },
   "outputs": [
    {
     "data": {
      "text/plain": [
       "array([[62.212467  , 34.79511   , 27.455824  , ...,  0.53399855,\n",
       "        47.242645  , 75.15147   ],\n",
       "       [67.48596   , 41.0685    , 31.332184  , ...,  0.22538191,\n",
       "        43.990444  , 77.507164  ],\n",
       "       [64.64891   , 36.50058   , 30.274904  , ..., -0.40261644,\n",
       "        48.519108  , 73.11352   ],\n",
       "       ...,\n",
       "       [65.032364  , 38.419785  , 29.754112  , ...,  0.35643202,\n",
       "        46.18418   , 77.11667   ],\n",
       "       [66.378975  , 39.836735  , 31.705467  , ..., -0.10323995,\n",
       "        45.906853  , 75.16227   ],\n",
       "       [60.884647  , 35.31669   , 28.247564  , ...,  4.4030466 ,\n",
       "        43.87506   , 72.08686   ]], dtype=float32)"
      ]
     },
     "execution_count": 15,
     "metadata": {},
     "output_type": "execute_result"
    }
   ],
   "source": [
    "y_pred = model.predict(x_test)\n",
    "y_pred"
   ]
  },
  {
   "cell_type": "code",
   "execution_count": 16,
   "id": "9f376f55",
   "metadata": {
    "execution": {
     "iopub.execute_input": "2021-09-10T22:02:04.862130Z",
     "iopub.status.busy": "2021-09-10T22:02:04.861153Z",
     "iopub.status.idle": "2021-09-10T22:02:04.865656Z",
     "shell.execute_reply": "2021-09-10T22:02:04.865137Z",
     "shell.execute_reply.started": "2021-09-10T21:45:54.154812Z"
    },
    "papermill": {
     "duration": 1.398845,
     "end_time": "2021-09-10T22:02:04.865789",
     "exception": false,
     "start_time": "2021-09-10T22:02:03.466944",
     "status": "completed"
    },
    "tags": []
   },
   "outputs": [],
   "source": [
    "def plot_img_preds(images, truth, pred, index):\n",
    "    plt.imshow(images[index, :, :, 0], cmap = 'gray')\n",
    "    \n",
    "    t = np.array(truth)[index]\n",
    "    plt.scatter(t[0::2], t[1::2], c = 'y')\n",
    "    \n",
    "    p = pred[index, :]\n",
    "    plt.scatter(p[0::2], p[1::2], c = 'r')\n",
    "    \n",
    "    plt.show()"
   ]
  },
  {
   "cell_type": "code",
   "execution_count": 17,
   "id": "d9d9662e",
   "metadata": {
    "execution": {
     "iopub.execute_input": "2021-09-10T22:02:07.701411Z",
     "iopub.status.busy": "2021-09-10T22:02:07.695077Z",
     "iopub.status.idle": "2021-09-10T22:02:07.858945Z",
     "shell.execute_reply": "2021-09-10T22:02:07.858392Z",
     "shell.execute_reply.started": "2021-09-10T21:46:06.428472Z"
    },
    "papermill": {
     "duration": 1.586621,
     "end_time": "2021-09-10T22:02:07.859085",
     "exception": false,
     "start_time": "2021-09-10T22:02:06.272464",
     "status": "completed"
    },
    "tags": []
   },
   "outputs": [
    {
     "data": {
      "image/png": "[encoded data removed]",
      "text/plain": [
       "<Figure size 432x288 with 1 Axes>"
      ]
     },
     "metadata": {
      "needs_background": "light"
     },
     "output_type": "display_data"
    }
   ],
   "source": [
    "plot_img_preds(x_test, y_test, y_pred, 3)"
   ]
  },
  {
   "cell_type": "code",
   "execution_count": 18,
   "id": "95f4a235",
   "metadata": {
    "execution": {
     "iopub.execute_input": "2021-09-10T22:02:10.692124Z",
     "iopub.status.busy": "2021-09-10T22:02:10.685644Z",
     "iopub.status.idle": "2021-09-10T22:02:10.843612Z",
     "shell.execute_reply": "2021-09-10T22:02:10.844181Z",
     "shell.execute_reply.started": "2021-09-10T21:48:10.087578Z"
    },
    "papermill": {
     "duration": 1.585775,
     "end_time": "2021-09-10T22:02:10.844370",
     "exception": false,
     "start_time": "2021-09-10T22:02:09.258595",
     "status": "completed"
    },
    "tags": []
   },
   "outputs": [
    {
     "data": {
      "image/png": "[encoded data removed]",
      "text/plain": [
       "<Figure size 432x288 with 1 Axes>"
      ]
     },
     "metadata": {
      "needs_background": "light"
     },
     "output_type": "display_data"
    }
   ],
   "source": [
    "plot_img_preds(x_test, y_test, y_pred, 18)"
   ]
  }
 ],
 "metadata": {
  "kernelspec": {
   "display_name": "Python 3",
   "language": "python",
   "name": "python3"
  },
  "language_info": {
   "codemirror_mode": {
    "name": "ipython",
    "version": 3
   },
   "file_extension": ".py",
   "mimetype": "text/x-python",
   "name": "python",
   "nbconvert_exporter": "python",
   "pygments_lexer": "ipython3",
   "version": "3.7.10"
  },
  "papermill": {
   "default_parameters": {},
   "duration": 300.091153,
   "end_time": "2021-09-10T22:02:15.099658",
   "environment_variables": {},
   "exception": null,
   "input_path": "__notebook__.ipynb",
   "output_path": "__notebook__.ipynb",
   "parameters": {},
   "start_time": "2021-09-10T21:57:15.008505",
   "version": "2.3.3"
  }
 },
 "nbformat": 4,
 "nbformat_minor": 5
}
