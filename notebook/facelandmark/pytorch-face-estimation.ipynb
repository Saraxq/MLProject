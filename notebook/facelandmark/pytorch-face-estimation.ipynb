{
 "cells": [
  {
   "cell_type": "markdown",
   "id": "96ed4fba",
   "metadata": {
    "papermill": {
     "duration": 0.006949,
     "end_time": "2022-09-09T23:41:09.088479",
     "exception": false,
     "start_time": "2022-09-09T23:41:09.081530",
     "status": "completed"
    },
    "tags": []
   },
   "source": [
    "1. Import Lib\n",
    "1. Import Dataset\n",
    "1. Get Image and Label\n",
    "1. Create Model\n",
    "1. Train Model\n",
    "1. Test Model"
   ]
  },
  {
   "cell_type": "markdown",
   "id": "f8dde7ec",
   "metadata": {
    "papermill": {
     "duration": 0.009377,
     "end_time": "2022-09-09T23:41:09.104170",
     "exception": false,
     "start_time": "2022-09-09T23:41:09.094793",
     "status": "completed"
    },
    "tags": []
   },
   "source": [
    "# Load Dataset"
   ]
  },
  {
   "cell_type": "markdown",
   "id": "007a55e6",
   "metadata": {
    "papermill": {
     "duration": 0.010507,
     "end_time": "2022-09-09T23:41:09.124299",
     "exception": false,
     "start_time": "2022-09-09T23:41:09.113792",
     "status": "completed"
    },
    "tags": []
   },
   "source": [
    "> Import Lib"
   ]
  },
  {
   "cell_type": "code",
   "execution_count": 1,
   "id": "bd5cd05a",
   "metadata": {
    "execution": {
     "iopub.execute_input": "2022-09-09T23:41:09.145883Z",
     "iopub.status.busy": "2022-09-09T23:41:09.145388Z",
     "iopub.status.idle": "2022-09-09T23:41:12.179835Z",
     "shell.execute_reply": "2022-09-09T23:41:12.178865Z"
    },
    "papermill": {
     "duration": 3.045978,
     "end_time": "2022-09-09T23:41:12.182421",
     "exception": false,
     "start_time": "2022-09-09T23:41:09.136443",
     "status": "completed"
    },
    "tags": []
   },
   "outputs": [],
   "source": [
    "import pandas as pd\n",
    "import torch\n",
    "import torchvision\n",
    "from torchvision.transforms import transforms\n",
    "import numpy as np\n",
    "import matplotlib.pyplot as plt\n",
    "from sklearn.model_selection import train_test_split\n",
    "import torch.nn as nn\n",
    "import torch.nn.functional as F"
   ]
  },
  {
   "cell_type": "markdown",
   "id": "0315849e",
   "metadata": {
    "papermill": {
     "duration": 0.005569,
     "end_time": "2022-09-09T23:41:12.193626",
     "exception": false,
     "start_time": "2022-09-09T23:41:12.188057",
     "status": "completed"
    },
    "tags": []
   },
   "source": [
    "> Import dataset"
   ]
  },
  {
   "cell_type": "markdown",
   "id": "37ba3e5f",
   "metadata": {
    "papermill": {
     "duration": 0.004985,
     "end_time": "2022-09-09T23:41:12.203655",
     "exception": false,
     "start_time": "2022-09-09T23:41:12.198670",
     "status": "completed"
    },
    "tags": []
   },
   "source": [
    "load label dataset"
   ]
  },
  {
   "cell_type": "code",
   "execution_count": 3,
   "id": "1bd39ab3",
   "metadata": {
    "execution": {
     "iopub.execute_input": "2022-09-09T23:41:12.215481Z",
     "iopub.status.busy": "2022-09-09T23:41:12.215050Z",
     "iopub.status.idle": "2022-09-09T23:41:12.286509Z",
     "shell.execute_reply": "2022-09-09T23:41:12.285603Z"
    },
    "papermill": {
     "duration": 0.080031,
     "end_time": "2022-09-09T23:41:12.288731",
     "exception": false,
     "start_time": "2022-09-09T23:41:12.208700",
     "status": "completed"
    },
    "tags": []
   },
   "outputs": [],
   "source": [
    "label_data = pd.read_csv(\"../../dataset/facelandmark/facial_keypoints.csv\")\n",
    "label_data = label_data.dropna()\n",
    "label_index = label_data.index\n",
    "\n",
    "full_label = label_data.values"
   ]
  },
  {
   "cell_type": "markdown",
   "id": "15cedf81",
   "metadata": {
    "papermill": {
     "duration": 0.0051,
     "end_time": "2022-09-09T23:41:12.299358",
     "exception": false,
     "start_time": "2022-09-09T23:41:12.294258",
     "status": "completed"
    },
    "tags": []
   },
   "source": [
    "load image dataset"
   ]
  },
  {
   "cell_type": "code",
   "execution_count": 4,
   "id": "5b3877f7",
   "metadata": {
    "execution": {
     "iopub.execute_input": "2022-09-09T23:41:12.312109Z",
     "iopub.status.busy": "2022-09-09T23:41:12.310470Z",
     "iopub.status.idle": "2022-09-09T23:41:16.458364Z",
     "shell.execute_reply": "2022-09-09T23:41:16.457300Z"
    },
    "papermill": {
     "duration": 4.156409,
     "end_time": "2022-09-09T23:41:16.460905",
     "exception": false,
     "start_time": "2022-09-09T23:41:12.304496",
     "status": "completed"
    },
    "tags": []
   },
   "outputs": [],
   "source": [
    "image_data = np.load(\"../../dataset/facelandmark/face_images.npz\")\n",
    "image_data = image_data[\"face_images\"]\n",
    "image_data = np.transpose(image_data,(2,0,1))\n",
    "\n",
    "full_image = np.expand_dims(image_data[label_index],1)\n"
   ]
  },
  {
   "cell_type": "markdown",
   "id": "e58c4d2c",
   "metadata": {
    "papermill": {
     "duration": 0.005225,
     "end_time": "2022-09-09T23:41:16.471850",
     "exception": false,
     "start_time": "2022-09-09T23:41:16.466625",
     "status": "completed"
    },
    "tags": []
   },
   "source": [
    "> Split dataset train and test"
   ]
  },
  {
   "cell_type": "code",
   "execution_count": 33,
   "id": "659bbe53",
   "metadata": {
    "execution": {
     "iopub.execute_input": "2022-09-09T23:41:16.484548Z",
     "iopub.status.busy": "2022-09-09T23:41:16.484198Z",
     "iopub.status.idle": "2022-09-09T23:41:16.537263Z",
     "shell.execute_reply": "2022-09-09T23:41:16.536242Z"
    },
    "papermill": {
     "duration": 0.061762,
     "end_time": "2022-09-09T23:41:16.539666",
     "exception": false,
     "start_time": "2022-09-09T23:41:16.477904",
     "status": "completed"
    },
    "tags": []
   },
   "outputs": [],
   "source": [
    "X_train,X_test,y_train,y_test = train_test_split(full_image,full_label,test_size = 0.1)"
   ]
  },
  {
   "cell_type": "markdown",
   "id": "ab4724c1",
   "metadata": {
    "papermill": {
     "duration": 0.005011,
     "end_time": "2022-09-09T23:41:16.550060",
     "exception": false,
     "start_time": "2022-09-09T23:41:16.545049",
     "status": "completed"
    },
    "tags": []
   },
   "source": [
    "> Create class method for Face Dataset"
   ]
  },
  {
   "cell_type": "code",
   "execution_count": 6,
   "id": "f4f74d2e",
   "metadata": {
    "execution": {
     "iopub.execute_input": "2022-09-09T23:41:16.561622Z",
     "iopub.status.busy": "2022-09-09T23:41:16.561313Z",
     "iopub.status.idle": "2022-09-09T23:41:16.567904Z",
     "shell.execute_reply": "2022-09-09T23:41:16.566853Z"
    },
    "papermill": {
     "duration": 0.014856,
     "end_time": "2022-09-09T23:41:16.570212",
     "exception": false,
     "start_time": "2022-09-09T23:41:16.555356",
     "status": "completed"
    },
    "tags": []
   },
   "outputs": [],
   "source": [
    "class FaceDataset(torch.utils.data.Dataset):\n",
    "    def __init__(self,image,label):\n",
    "        self.image = image\n",
    "        self.label = label\n",
    "        \n",
    "    def __len__(self):\n",
    "        return len(self.image)\n",
    "    \n",
    "    def __getitem__(self,idx):\n",
    "        image = self.image[idx] / 255.\n",
    "        label = self.label[idx] / 96.\n",
    "        \n",
    "        image = torch.as_tensor(image,dtype = torch.float32)\n",
    "        label = torch.as_tensor(label,dtype = torch.float32)\n",
    "        \n",
    "        return image,label\n",
    "        \n",
    "        "
   ]
  },
  {
   "cell_type": "markdown",
   "id": "19aa4d63",
   "metadata": {
    "papermill": {
     "duration": 0.004811,
     "end_time": "2022-09-09T23:41:16.579971",
     "exception": false,
     "start_time": "2022-09-09T23:41:16.575160",
     "status": "completed"
    },
    "tags": []
   },
   "source": [
    "> test class method"
   ]
  },
  {
   "cell_type": "code",
   "execution_count": 7,
   "id": "8be0d249",
   "metadata": {
    "execution": {
     "iopub.execute_input": "2022-09-09T23:41:16.591069Z",
     "iopub.status.busy": "2022-09-09T23:41:16.590767Z",
     "iopub.status.idle": "2022-09-09T23:41:16.876470Z",
     "shell.execute_reply": "2022-09-09T23:41:16.875461Z"
    },
    "papermill": {
     "duration": 0.293868,
     "end_time": "2022-09-09T23:41:16.878893",
     "exception": false,
     "start_time": "2022-09-09T23:41:16.585025",
     "status": "completed"
    },
    "tags": []
   },
   "outputs": [
    {
     "data": {
      "text/plain": "<Figure size 640x480 with 1 Axes>",
      "image/png": "[encoded data removed]"
     },
     "metadata": {},
     "output_type": "display_data"
    },
    {
     "data": {
      "text/plain": "<Figure size 640x480 with 0 Axes>"
     },
     "metadata": {},
     "output_type": "display_data"
    }
   ],
   "source": [
    "test_image = FaceDataset(X_train,y_train)\n",
    "\n",
    "\n",
    "def pltshower(image,label,idx):\n",
    "    \n",
    "    x = label[idx][1].reshape(15,2)[0:,0] *96\n",
    "    y = label[idx][1].reshape(15,2)[0:,1] *96\n",
    "\n",
    "    img = image[idx][0]\n",
    "    img = np.transpose(img,(1,2,0))\n",
    "\n",
    "    plt.imshow(img)\n",
    "    \n",
    "    plt.scatter(x,y,c = \"red\", s = 10)\n",
    "    plt.figure()\n",
    "    \n",
    "        \n",
    "    \n",
    "for i in range(1):\n",
    "    \n",
    "    pltshower(test_image,test_image,i)   \n",
    "    \n"
   ]
  },
  {
   "cell_type": "markdown",
   "id": "7d31aa64",
   "metadata": {
    "papermill": {
     "duration": 0.006206,
     "end_time": "2022-09-09T23:41:16.891386",
     "exception": false,
     "start_time": "2022-09-09T23:41:16.885180",
     "status": "completed"
    },
    "tags": []
   },
   "source": [
    "> create dataset"
   ]
  },
  {
   "cell_type": "code",
   "execution_count": 8,
   "id": "77eb0db0",
   "metadata": {
    "execution": {
     "iopub.execute_input": "2022-09-09T23:41:16.904909Z",
     "iopub.status.busy": "2022-09-09T23:41:16.904596Z",
     "iopub.status.idle": "2022-09-09T23:41:16.909760Z",
     "shell.execute_reply": "2022-09-09T23:41:16.908845Z"
    },
    "papermill": {
     "duration": 0.014191,
     "end_time": "2022-09-09T23:41:16.911830",
     "exception": false,
     "start_time": "2022-09-09T23:41:16.897639",
     "status": "completed"
    },
    "tags": []
   },
   "outputs": [],
   "source": [
    "train_loader = torch.utils.data.DataLoader(FaceDataset(X_train,y_train),shuffle = True,batch_size = 32)\n",
    "test_loader  = torch.utils.data.DataLoader(FaceDataset(X_test,y_test), shuffle = False, batch_size = 32)"
   ]
  },
  {
   "cell_type": "markdown",
   "id": "04307c8f",
   "metadata": {
    "papermill": {
     "duration": 0.005893,
     "end_time": "2022-09-09T23:41:16.923769",
     "exception": false,
     "start_time": "2022-09-09T23:41:16.917876",
     "status": "completed"
    },
    "tags": []
   },
   "source": [
    "# Model Part"
   ]
  },
  {
   "cell_type": "markdown",
   "id": "0ad58f74",
   "metadata": {
    "papermill": {
     "duration": 0.005941,
     "end_time": "2022-09-09T23:41:16.935687",
     "exception": false,
     "start_time": "2022-09-09T23:41:16.929746",
     "status": "completed"
    },
    "tags": []
   },
   "source": [
    "> select device"
   ]
  },
  {
   "cell_type": "code",
   "execution_count": 9,
   "id": "385366a0",
   "metadata": {
    "execution": {
     "iopub.execute_input": "2022-09-09T23:41:16.949497Z",
     "iopub.status.busy": "2022-09-09T23:41:16.948635Z",
     "iopub.status.idle": "2022-09-09T23:41:17.014054Z",
     "shell.execute_reply": "2022-09-09T23:41:17.013155Z"
    },
    "papermill": {
     "duration": 0.074493,
     "end_time": "2022-09-09T23:41:17.016214",
     "exception": false,
     "start_time": "2022-09-09T23:41:16.941721",
     "status": "completed"
    },
    "tags": []
   },
   "outputs": [],
   "source": [
    "device = torch.device(\"cuda\" if torch.cuda.is_available() else \"cpu\")"
   ]
  },
  {
   "cell_type": "markdown",
   "id": "7ceb1895",
   "metadata": {
    "papermill": {
     "duration": 0.005958,
     "end_time": "2022-09-09T23:41:17.028290",
     "exception": false,
     "start_time": "2022-09-09T23:41:17.022332",
     "status": "completed"
    },
    "tags": []
   },
   "source": [
    "> load model (our)"
   ]
  },
  {
   "cell_type": "code",
   "execution_count": 10,
   "id": "187fae4d",
   "metadata": {
    "execution": {
     "iopub.execute_input": "2022-09-09T23:41:17.042145Z",
     "iopub.status.busy": "2022-09-09T23:41:17.041358Z",
     "iopub.status.idle": "2022-09-09T23:41:17.050982Z",
     "shell.execute_reply": "2022-09-09T23:41:17.050148Z"
    },
    "papermill": {
     "duration": 0.018626,
     "end_time": "2022-09-09T23:41:17.052921",
     "exception": false,
     "start_time": "2022-09-09T23:41:17.034295",
     "status": "completed"
    },
    "tags": []
   },
   "outputs": [],
   "source": [
    "class ConvNet(nn.Module):\n",
    "    def __init__(self,out_class):\n",
    "        super(ConvNet,self).__init__()\n",
    "        \n",
    "        self.conv = nn.Conv2d(1,32,kernel_size = 4)\n",
    "        self.batch = nn.BatchNorm2d(num_features = 32)\n",
    "        self.rel = nn.ReLU()\n",
    "        self.maxp = nn.MaxPool2d(kernel_size = 2)\n",
    "        self.drop = nn.Dropout(0.6)\n",
    "        \n",
    "        self.conv2 = nn.Conv2d(32,64,kernel_size = 4)\n",
    "        self.batch2 = nn.BatchNorm2d(num_features = 64)\n",
    "        self.rel2 = nn.ReLU()\n",
    "        self.maxp2 = nn.MaxPool2d(kernel_size = 2)\n",
    "        self.drop2 = nn.Dropout(0.6)\n",
    "        \n",
    "        \n",
    "        \n",
    "        self.flat = nn.Flatten()\n",
    "        self.fc = nn.Linear(64*21*21,out_class)\n",
    "        \n",
    "        \n",
    "    def forward(self,x):\n",
    "        x = self.conv(x)\n",
    "        x = self.batch(x)\n",
    "        x = self.rel(x)\n",
    "        x = self.maxp(x)\n",
    "        x = self.drop(x)\n",
    "        \n",
    "        x = self.conv2(x)\n",
    "        x = self.batch2(x)\n",
    "        x = self.rel2(x)\n",
    "        x = self.maxp2(x)\n",
    "        x = self.drop2(x)\n",
    "        \n",
    "        #print(np.shape(x))\n",
    "        x = self.flat(x)\n",
    "        x = self.fc(x)\n",
    "        x = F.sigmoid(x)\n",
    "        \n",
    "        return x\n",
    "        \n",
    "        "
   ]
  },
  {
   "cell_type": "code",
   "execution_count": 11,
   "id": "f549753a",
   "metadata": {
    "execution": {
     "iopub.execute_input": "2022-09-09T23:41:17.067595Z",
     "iopub.status.busy": "2022-09-09T23:41:17.066027Z",
     "iopub.status.idle": "2022-09-09T23:41:20.271217Z",
     "shell.execute_reply": "2022-09-09T23:41:20.270197Z"
    },
    "papermill": {
     "duration": 3.21451,
     "end_time": "2022-09-09T23:41:20.273615",
     "exception": false,
     "start_time": "2022-09-09T23:41:17.059105",
     "status": "completed"
    },
    "tags": []
   },
   "outputs": [],
   "source": [
    "epoch = 30\n",
    "model = ConvNet(30).to(device)\n",
    "optimizer = torch.optim.AdamW(model.parameters(),lr = 0.0003)\n",
    "criterion = nn.L1Loss()\n",
    "\n"
   ]
  },
  {
   "cell_type": "markdown",
   "id": "9535ad0a",
   "metadata": {
    "papermill": {
     "duration": 0.005981,
     "end_time": "2022-09-09T23:41:20.286408",
     "exception": false,
     "start_time": "2022-09-09T23:41:20.280427",
     "status": "completed"
    },
    "tags": []
   },
   "source": [
    "> train"
   ]
  },
  {
   "cell_type": "code",
   "execution_count": 14,
   "id": "db028d38",
   "metadata": {
    "execution": {
     "iopub.execute_input": "2022-09-09T23:41:20.301116Z",
     "iopub.status.busy": "2022-09-09T23:41:20.299446Z",
     "iopub.status.idle": "2022-09-09T23:41:45.031576Z",
     "shell.execute_reply": "2022-09-09T23:41:45.029981Z"
    },
    "papermill": {
     "duration": 24.742001,
     "end_time": "2022-09-09T23:41:45.034391",
     "exception": false,
     "start_time": "2022-09-09T23:41:20.292390",
     "status": "completed"
    },
    "tags": []
   },
   "outputs": [
    {
     "name": "stderr",
     "output_type": "stream",
     "text": [
      "c:\\users\\saraz\\documents\\uni\\third term\\ml\\mlproject\\venv\\lib\\site-packages\\torch\\nn\\functional.py:1960: UserWarning: nn.functional.sigmoid is deprecated. Use torch.sigmoid instead.\n",
      "  warnings.warn(\"nn.functional.sigmoid is deprecated. Use torch.sigmoid instead.\")\n"
     ]
    },
    {
     "name": "stdout",
     "output_type": "stream",
     "text": [
      "Epoch: 0/30 Train Loss: 0.2929625355194662  Test Loss: 0.2542579569549204\n",
      "Epoch: 1/30 Train Loss: 0.27141481201596723  Test Loss: 0.2517793220337306\n",
      "Epoch: 2/30 Train Loss: 0.26885872844099873  Test Loss: 0.2542685114334677\n",
      "Epoch: 3/30 Train Loss: 0.2635217024901203  Test Loss: 0.2518810798353124\n",
      "Epoch: 4/30 Train Loss: 0.2572907451095363  Test Loss: 0.23878979320838073\n",
      "Epoch: 5/30 Train Loss: 0.24983251494039257  Test Loss: 0.23467611166361335\n",
      "Epoch: 6/30 Train Loss: 0.2317434937257014  Test Loss: 0.2184426595117444\n",
      "Epoch: 7/30 Train Loss: 0.21527733091315251  Test Loss: 0.19203206520771313\n",
      "Epoch: 8/30 Train Loss: 0.18233490042844913  Test Loss: 0.1484921665113663\n",
      "Epoch: 9/30 Train Loss: 0.1347742786675475  Test Loss: 0.10478736265240429\n",
      "Epoch: 10/30 Train Loss: 0.10887860437915085  Test Loss: 0.08333833954323118\n",
      "Epoch: 11/30 Train Loss: 0.08883087099495954  Test Loss: 0.0630335337787031\n",
      "Epoch: 12/30 Train Loss: 0.07290784421987127  Test Loss: 0.05519111611157934\n",
      "Epoch: 13/30 Train Loss: 0.057170238848756286  Test Loss: 0.042092492542812755\n",
      "Epoch: 14/30 Train Loss: 0.044689289776768885  Test Loss: 0.029611110826519047\n",
      "Epoch: 15/30 Train Loss: 0.03704838682960251  Test Loss: 0.027276170483537924\n",
      "Epoch: 16/30 Train Loss: 0.03384965307321999  Test Loss: 0.034801920196998896\n",
      "Epoch: 17/30 Train Loss: 0.03055775480834247  Test Loss: 0.02305033961398022\n",
      "Epoch: 18/30 Train Loss: 0.03021625413144489  Test Loss: 0.02519933865449139\n",
      "Epoch: 19/30 Train Loss: 0.02826628836717066  Test Loss: 0.019379375415427662\n",
      "Epoch: 20/30 Train Loss: 0.02582731563694628  Test Loss: 0.019632906800954142\n",
      "Epoch: 21/30 Train Loss: 0.023459465027257785  Test Loss: 0.020972387517027766\n",
      "Epoch: 22/30 Train Loss: 0.022145277896928887  Test Loss: 0.018036998425410174\n",
      "Epoch: 23/30 Train Loss: 0.020962950985333257  Test Loss: 0.018707411224457706\n",
      "Epoch: 24/30 Train Loss: 0.020849646795405654  Test Loss: 0.01767568128340155\n",
      "Epoch: 25/30 Train Loss: 0.020198870367087184  Test Loss: 0.017125797397065386\n",
      "Epoch: 26/30 Train Loss: 0.02000880905988927  Test Loss: 0.01844469200227862\n",
      "Epoch: 27/30 Train Loss: 0.01992104627261652  Test Loss: 0.018147828997434858\n",
      "Epoch: 28/30 Train Loss: 0.019663609962751807  Test Loss: 0.017040724004401226\n",
      "Epoch: 29/30 Train Loss: 0.019641619957093757  Test Loss: 0.02048471961692672\n"
     ]
    }
   ],
   "source": [
    "test_loss_graph = []\n",
    "train_loss_graph = []\n",
    "for epochs in range(epoch):\n",
    "    model.train()\n",
    "    train_loss_inf = 0\n",
    "    test_loss_inf = 0\n",
    "    \n",
    "    for image,label in train_loader:\n",
    "        \n",
    "        \n",
    "        image,label = image.to(device),label.to(device)\n",
    "        \n",
    "        output = model(image)\n",
    "        \n",
    "        loss = criterion(output,label)\n",
    "        \n",
    "        optimizer.zero_grad()\n",
    "        loss.backward()\n",
    "        optimizer.step()\n",
    "        \n",
    "        train_loss_inf += loss.item() * image.size(0)\n",
    "    \n",
    "    model.eval()\n",
    "    for test_image,test_label in test_loader:\n",
    "        test_image,test_label = test_image.to(device),test_label.to(device)\n",
    "        \n",
    "        output = model(test_image)\n",
    "        test_loss = criterion(output,test_label)\n",
    "        \n",
    "        test_loss_inf += test_loss.item() * test_image.size(0)\n",
    "    train_loss_graph.append(train_loss_inf / len(X_train)) \n",
    "    test_loss_graph.append(test_loss_inf / len(X_test))\n",
    "    print(f\"Epoch: {epochs}/{epoch} Train Loss: {train_loss_inf / len(X_train)}  Test Loss: {test_loss_inf / len(X_test)}\")\n",
    "    torch.save(model.state_dict(),\"model.pt\")\n",
    "        "
   ]
  },
  {
   "cell_type": "markdown",
   "id": "1f615843",
   "metadata": {
    "papermill": {
     "duration": 0.00745,
     "end_time": "2022-09-09T23:41:45.050248",
     "exception": false,
     "start_time": "2022-09-09T23:41:45.042798",
     "status": "completed"
    },
    "tags": []
   },
   "source": [
    "# Visualize Prediiction"
   ]
  },
  {
   "cell_type": "code",
   "execution_count": 15,
   "id": "195d9053",
   "metadata": {
    "execution": {
     "iopub.execute_input": "2022-09-09T23:41:45.067244Z",
     "iopub.status.busy": "2022-09-09T23:41:45.066904Z",
     "iopub.status.idle": "2022-09-09T23:41:45.298694Z",
     "shell.execute_reply": "2022-09-09T23:41:45.297655Z"
    },
    "papermill": {
     "duration": 0.24265,
     "end_time": "2022-09-09T23:41:45.300728",
     "exception": false,
     "start_time": "2022-09-09T23:41:45.058078",
     "status": "completed"
    },
    "tags": []
   },
   "outputs": [
    {
     "data": {
      "text/plain": "<Figure size 640x480 with 0 Axes>"
     },
     "execution_count": 15,
     "metadata": {},
     "output_type": "execute_result"
    },
    {
     "data": {
      "text/plain": "<Figure size 640x480 with 1 Axes>",
      "image/png": "[encoded data removed]"
     },
     "metadata": {},
     "output_type": "display_data"
    },
    {
     "data": {
      "text/plain": "<Figure size 640x480 with 0 Axes>"
     },
     "metadata": {},
     "output_type": "display_data"
    }
   ],
   "source": [
    "plt.plot(train_loss_graph)\n",
    "plt.plot(test_loss_graph)\n",
    "plt.xlabel(\"Epoch\")\n",
    "plt.ylabel(\"Loss\")\n",
    "plt.suptitle(\"Loss/Epoch\")\n",
    "plt.legend([\"Train\",\"Test\"])\n",
    "plt.figure()"
   ]
  },
  {
   "cell_type": "markdown",
   "id": "a0055538",
   "metadata": {
    "papermill": {
     "duration": 0.007953,
     "end_time": "2022-09-09T23:41:45.317627",
     "exception": false,
     "start_time": "2022-09-09T23:41:45.309674",
     "status": "completed"
    },
    "tags": []
   },
   "source": [
    "> visualize model test"
   ]
  },
  {
   "cell_type": "code",
   "execution_count": 57,
   "id": "bc2194cf",
   "metadata": {
    "execution": {
     "iopub.execute_input": "2022-09-09T23:41:45.335411Z",
     "iopub.status.busy": "2022-09-09T23:41:45.334898Z",
     "iopub.status.idle": "2022-09-09T23:41:48.511145Z",
     "shell.execute_reply": "2022-09-09T23:41:48.510024Z"
    },
    "papermill": {
     "duration": 3.188229,
     "end_time": "2022-09-09T23:41:48.513998",
     "exception": false,
     "start_time": "2022-09-09T23:41:45.325769",
     "status": "completed"
    },
    "tags": []
   },
   "outputs": [
    {
     "name": "stderr",
     "output_type": "stream",
     "text": [
      "c:\\users\\saraz\\documents\\uni\\third term\\ml\\mlproject\\venv\\lib\\site-packages\\torch\\nn\\functional.py:1960: UserWarning: nn.functional.sigmoid is deprecated. Use torch.sigmoid instead.\n",
      "  warnings.warn(\"nn.functional.sigmoid is deprecated. Use torch.sigmoid instead.\")\n"
     ]
    },
    {
     "name": "stdout",
     "output_type": "stream",
     "text": [
      "[64.74713  29.734356 59.981537 72.23151  34.87865  22.685654 56.218197\n",
      " 78.55298  39.330524 15.385617 45.10624  61.418617 33.34827  46.384235\n",
      " 46.381348]\n"
     ]
    },
    {
     "name": "stderr",
     "output_type": "stream",
     "text": [
      "c:\\users\\saraz\\documents\\uni\\third term\\ml\\mlproject\\venv\\lib\\site-packages\\torch\\nn\\functional.py:1960: UserWarning: nn.functional.sigmoid is deprecated. Use torch.sigmoid instead.\n",
      "  warnings.warn(\"nn.functional.sigmoid is deprecated. Use torch.sigmoid instead.\")\n"
     ]
    },
    {
     "name": "stdout",
     "output_type": "stream",
     "text": [
      "[66.29907  31.041203 61.227036 72.33621  36.69131  23.440481 58.963966\n",
      " 79.12755  39.21102  16.112556 47.76169  61.672165 33.627094 48.17925\n",
      " 47.67334 ]\n",
      "[64.48505  32.569576 60.11918  70.99574  37.632904 25.7152   56.2704\n",
      " 77.37761  40.414482 20.164207 45.628685 59.11846  34.88147  46.536003\n",
      " 45.994503]\n",
      "[64.44526  31.839643 58.73227  72.390945 38.915813 23.309507 54.307816\n",
      " 79.11244  44.070293 16.540264 47.581184 58.91622  31.106026 45.924187\n",
      " 45.407192]\n",
      "[64.7025    30.60448   58.532806  73.71441   37.370716  21.962917\n",
      " 55.168083  79.73826   38.314697  15.1829195 47.03072   64.8047\n",
      " 34.36579   48.91017   48.862    ]\n",
      "[66.923035 29.513641 60.92427  73.31916  35.635582 21.425896 59.233\n",
      " 79.623505 37.488735 14.347082 48.502705 63.331318 33.370506 48.573586\n",
      " 48.143173]\n",
      "[62.847324 31.802578 56.694992 70.344765 38.06347  23.153507 53.42636\n",
      " 78.77432  41.7108   14.977785 46.43441  59.092377 32.271667 46.18647\n",
      " 46.31432 ]\n"
     ]
    }
   ],
   "source": [
    "model = ConvNet(30).to(device)\n",
    "model.load_state_dict(torch.load('../../model.pt'))\n",
    "\n",
    "model = model.to(\"cpu\")\n",
    "with torch.no_grad():\n",
    "    \n",
    "    model.eval()\n",
    "    for i,(img,label) in enumerate(test_loader):\n",
    "        output = model(img)\n",
    "        output = output[i].reshape(15,2)\n",
    "        real_label = label[i].reshape(15,2)\n",
    "\n",
    "        # prediction_df = pd.DataFrame(output)\n",
    "        # print(real_label)\n",
    "        # print(prediction_df)\n",
    "        # prediction_df.to_csv('prediction.csv')\n",
    "\n",
    "        image = img[i]\n",
    "        image = np.transpose(image,(1,2,0))\n",
    "        plt.imshow(image*255)\n",
    "        plt.scatter(output[0:,0]*96,output[0:,1]*96,c=\"red\",s = 10)\n",
    "\n",
    "        plt.scatter(real_label[0:,0]*96,real_label[0:,1]*96,c=\"blue\",s = 10)\n",
    "        plt.legend([\"Prediction\",\"Real\"])#blue : Prediction\n",
    "\n",
    "        plt.figure()\n",
    "\n",
    "        \n",
    "       \n",
    "    \n",
    "    "
   ]
  },
  {
   "cell_type": "code",
   "execution_count": 49,
   "id": "7256150f",
   "metadata": {
    "papermill": {
     "duration": 0.015074,
     "end_time": "2022-09-09T23:41:48.546106",
     "exception": false,
     "start_time": "2022-09-09T23:41:48.531032",
     "status": "completed"
    },
    "tags": []
   },
   "outputs": [],
   "source": []
  }
 ],
 "metadata": {
  "kernelspec": {
   "display_name": "Python 3",
   "language": "python",
   "name": "python3"
  },
  "language_info": {
   "codemirror_mode": {
    "name": "ipython",
    "version": 3
   },
   "file_extension": ".py",
   "mimetype": "text/x-python",
   "name": "python",
   "nbconvert_exporter": "python",
   "pygments_lexer": "ipython3",
   "version": "3.7.12"
  },
  "papermill": {
   "default_parameters": {},
   "duration": 48.804156,
   "end_time": "2022-09-09T23:41:50.085534",
   "environment_variables": {},
   "exception": null,
   "input_path": "__notebook__.ipynb",
   "output_path": "__notebook__.ipynb",
   "parameters": {},
   "start_time": "2022-09-09T23:41:01.281378",
   "version": "2.3.4"
  }
 },
 "nbformat": 4,
 "nbformat_minor": 5
}
