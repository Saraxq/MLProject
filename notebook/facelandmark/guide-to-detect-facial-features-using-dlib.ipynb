{
 "cells": [
  {
   "metadata": {},
   "cell_type": "markdown",
   "source": [
    "# Face Detection and Features Recognition using DLib\n",
    "**Dlib is a modern C++ toolkit containing machine learning algorithms and tools for creating complex software in C++ to solve real-world problems. This library works only on the gray-scale image.**\n",
    "\n",
    "We are using the model already trained, we will need to download the file shape_predictor_68_face_landmarks.dat. Link for the same is given below\n"
   ]
  },
  {
   "metadata": {},
   "cell_type": "markdown",
   "source": [
    "# Key Objective\n",
    "The objective is to detect faces(multiple faces allowed) in the image with the help of the OpenCV bounding box and display the face count near the box. We display the facial landmark coordinates and mark the facial landmark points, such as eyes, nose, mouth, ears, jaw-line with dots and trace the dots of jawline curve using the popular Dlib library"
   ]
  },
  {
   "metadata": {},
   "cell_type": "markdown",
   "source": [
    "# Dlib’s facial landmark detector\n",
    "Facial landmarks are used to localize and represent salient regions of the face, such as:\n",
    "Eyes\n",
    "Eyebrows\n",
    "Nose\n",
    "Mouth\n",
    "Jawline\n",
    "\n",
    "The pre-trained facial landmark detector inside the dlib library is used to estimate the location of 68 (x, y)-coordinates that map to facial structures on the face.\n",
    "\n",
    "The indexes of the 68 coordinates can be visualized on the image below:"
   ]
  },
  {
   "metadata": {},
   "cell_type": "markdown",
   "source": [
    "![landmark](https://raw.githubusercontent.com/vishakhagupta10/feature_detection/master/facelandmark68.png)"
   ]
  },
  {
   "metadata": {},
   "cell_type": "markdown",
   "source": [
    "These annotations are part of the 68 point iBUG 300-W dataset which the dlib facial landmark predictor was trained on.\n",
    "\n",
    "It’s important to note that other flavors of facial landmark detectors exist, including the 194 point model that can be trained on the HELEN dataset."
   ]
  },
  {
   "metadata": {},
   "cell_type": "markdown",
   "source": [
    "Detecting facial landmarks is a subset of the shape prediction problem. Given an input image (and normally an ROI that specifies the object of interest), a shape predictor attempts to localize key points of interest along the shape.\n",
    "\n",
    "**Detecting facial landmarks is therefore a two step process:**\n",
    "\n",
    "**Step #1: Localize the face in the image.**\n",
    "\n",
    "**Step #2: Detect the key facial structures on the face ROI.**"
   ]
  },
  {
   "metadata": {},
   "cell_type": "markdown",
   "source": [
    "**Step 1 is acheived by using dlib's frontal face detector**\n",
    "\n",
    "**Step 2 is acheived using facial landmark detector added in dlib.**\n"
   ]
  },
  {
   "metadata": {},
   "cell_type": "markdown",
   "source": [
    "# Here goes the code!"
   ]
  },
  {
   "metadata": {
    "_uuid": "8f2839f25d086af736a60e9eeb907d3b93b6e0e5",
    "_cell_guid": "b1076dfc-b9ad-4769-8c92-a6c4dae69d19",
    "trusted": true
   },
   "cell_type": "code",
   "source": [
    "# This Python 3 environment comes with many helpful analytics libraries installed\n",
    "# It is defined by the kaggle/python Docker image: https://github.com/kaggle/docker-python\n",
    "# For example, here's several helpful packages to load\n",
    "\n",
    "import numpy as np # linear algebra\n",
    "import pandas as pd # data processing, CSV file I/O (e.g. pd.read_csv)\n",
    "\n",
    "# Input data files are available in the read-only \"../input/\" directory\n",
    "# For example, running this (by clicking run or pressing Shift+Enter) will list all files under the input directory\n",
    "\n",
    "import os\n",
    "for dirname, _, filenames in os.walk('../../dataset/facelandmark/images'):\n",
    "    for filename in filenames:\n",
    "        print(os.path.join(dirname, filename))\n",
    "\n",
    "# You can write up to 5GB to the current directory (/kaggle/working/) that gets preserved as output when you create a version using \"Save & Run All\" \n",
    "# You can also write temporary files to /kaggle/temp/, but they won't be saved outside of the current session"
   ],
   "execution_count": 1,
   "outputs": [
    {
     "name": "stdout",
     "output_type": "stream",
     "text": [
      "../../dataset/facelandmark/images\\faces_featureimg.jpg\n",
      "../../dataset/facelandmark/images\\shape_predictor_68_face_landmarks.dat\n"
     ]
    }
   ]
  },
  {
   "metadata": {},
   "cell_type": "markdown",
   "source": [
    "# Installation of Packages\n",
    "We install all necessary packages, like here we need numpy, opencv, dlib imutils"
   ]
  },
  {
   "metadata": {
    "trusted": true
   },
   "cell_type": "code",
   "source": [
    "!pip install numpy opencv-python dlib imutils\n"
   ],
   "execution_count": 3,
   "outputs": [
    {
     "name": "stdout",
     "output_type": "stream",
     "text": [
      "Requirement already satisfied: numpy in c:\\users\\saraz\\documents\\uni\\third term\\ml\\mlproject\\venv\\lib\\site-packages (1.23.3)\n",
      "Requirement already satisfied: opencv-python in c:\\users\\saraz\\documents\\uni\\third term\\ml\\mlproject\\venv\\lib\\site-packages (4.6.0.66)\n",
      "Collecting dlib\n",
      "  Using cached dlib-19.24.0.tar.gz (3.2 MB)\n",
      "Requirement already satisfied: imutils in c:\\users\\saraz\\documents\\uni\\third term\\ml\\mlproject\\venv\\lib\\site-packages (0.5.4)\n",
      "Building wheels for collected packages: dlib\n",
      "  Building wheel for dlib (setup.py): started\n",
      "  Building wheel for dlib (setup.py): finished with status 'error'\n",
      "  Running setup.py clean for dlib\n",
      "Failed to build dlib\n",
      "Installing collected packages: dlib\n",
      "    Running setup.py install for dlib: started\n",
      "    Running setup.py install for dlib: finished with status 'error'\n"
     ]
    },
    {
     "name": "stderr",
     "output_type": "stream",
     "text": [
      "  ERROR: Command errored out with exit status 1:\n",
      "   command: 'C:\\Users\\saraZ\\Documents\\Uni\\Third Term\\ML\\MLProject\\venv\\Scripts\\python.exe' -u -c 'import io, os, sys, setuptools, tokenize; sys.argv[0] = '\"'\"'C:\\\\Users\\\\saraZ\\\\AppData\\\\Local\\\\Temp\\\\pip-install-7mos_m2s\\\\dlib_4f6053fb4516487db0caf34059332245\\\\setup.py'\"'\"'; __file__='\"'\"'C:\\\\Users\\\\saraZ\\\\AppData\\\\Local\\\\Temp\\\\pip-install-7mos_m2s\\\\dlib_4f6053fb4516487db0caf34059332245\\\\setup.py'\"'\"';f = getattr(tokenize, '\"'\"'open'\"'\"', open)(__file__) if os.path.exists(__file__) else io.StringIO('\"'\"'from setuptools import setup; setup()'\"'\"');code = f.read().replace('\"'\"'\\r\\n'\"'\"', '\"'\"'\\n'\"'\"');f.close();exec(compile(code, __file__, '\"'\"'exec'\"'\"'))' bdist_wheel -d 'C:\\Users\\saraZ\\AppData\\Local\\Temp\\pip-wheel-gt3kzkw1'\n",
      "       cwd: C:\\Users\\saraZ\\AppData\\Local\\Temp\\pip-install-7mos_m2s\\dlib_4f6053fb4516487db0caf34059332245\\\n",
      "  Complete output (58 lines):\n",
      "  running bdist_wheel\n",
      "  running build\n",
      "  running build_py\n",
      "  package init file 'tools\\python\\dlib\\__init__.py' not found (or not a regular file)\n",
      "  running build_ext\n",
      "  Building extension for Python 3.9.13 (tags/v3.9.13:6de2ca5, May 17 2022, 16:36:42) [MSC v.1929 64 bit (AMD64)]\n",
      "  Invoking CMake setup: 'cmake C:\\Users\\saraZ\\AppData\\Local\\Temp\\pip-install-7mos_m2s\\dlib_4f6053fb4516487db0caf34059332245\\tools\\python -DCMAKE_LIBRARY_OUTPUT_DIRECTORY=C:\\Users\\saraZ\\AppData\\Local\\Temp\\pip-install-7mos_m2s\\dlib_4f6053fb4516487db0caf34059332245\\build\\lib.win-amd64-3.9 -DPYTHON_EXECUTABLE=C:\\Users\\saraZ\\Documents\\Uni\\Third Term\\ML\\MLProject\\venv\\Scripts\\python.exe -DCMAKE_LIBRARY_OUTPUT_DIRECTORY_RELEASE=C:\\Users\\saraZ\\AppData\\Local\\Temp\\pip-install-7mos_m2s\\dlib_4f6053fb4516487db0caf34059332245\\build\\lib.win-amd64-3.9 -A x64'\n",
      "  -- Building for: NMake Makefiles\n",
      "  CMake Error at CMakeLists.txt:5 (message):\n",
      "  \n",
      "  \n",
      "  \n",
      "    !!!!!!!!!!!!!!!!!!!!!!!!!!!!!!!!!!!!!!!!!!!!!!!!!!!!!!!!!!!!!!!!!!!!!!!!!!!!!!!\n",
      "  \n",
      "  \n",
      "    You must use Visual Studio to build a python extension on windows.  If you\n",
      "    are getting this error it means you have not installed Visual C++.  Note\n",
      "    that there are many flavors of Visual Studio, like Visual Studio for C#\n",
      "    development.  You need to install Visual Studio for C++.\n",
      "  \n",
      "  \n",
      "    !!!!!!!!!!!!!!!!!!!!!!!!!!!!!!!!!!!!!!!!!!!!!!!!!!!!!!!!!!!!!!!!!!!!!!!!!!!!!!!\n",
      "  \n",
      "  \n",
      "  \n",
      "  \n",
      "  -- Configuring incomplete, errors occurred!\n",
      "  Traceback (most recent call last):\n",
      "    File \"<string>\", line 1, in <module>\n",
      "    File \"C:\\Users\\saraZ\\AppData\\Local\\Temp\\pip-install-7mos_m2s\\dlib_4f6053fb4516487db0caf34059332245\\setup.py\", line 222, in <module>\n",
      "      setup(\n",
      "    File \"C:\\Users\\saraZ\\Documents\\Uni\\Third Term\\ML\\MLProject\\venv\\lib\\site-packages\\setuptools\\__init__.py\", line 153, in setup\n",
      "      return distutils.core.setup(**attrs)\n",
      "    File \"C:\\Program Files\\WindowsApps\\PythonSoftwareFoundation.Python.3.9_3.9.3568.0_x64__qbz5n2kfra8p0\\lib\\distutils\\core.py\", line 148, in setup\n",
      "      dist.run_commands()\n",
      "    File \"C:\\Program Files\\WindowsApps\\PythonSoftwareFoundation.Python.3.9_3.9.3568.0_x64__qbz5n2kfra8p0\\lib\\distutils\\dist.py\", line 966, in run_commands\n",
      "      self.run_command(cmd)\n",
      "    File \"C:\\Program Files\\WindowsApps\\PythonSoftwareFoundation.Python.3.9_3.9.3568.0_x64__qbz5n2kfra8p0\\lib\\distutils\\dist.py\", line 985, in run_command\n",
      "      cmd_obj.run()\n",
      "    File \"C:\\Users\\saraZ\\Documents\\Uni\\Third Term\\ML\\MLProject\\venv\\lib\\site-packages\\wheel\\bdist_wheel.py\", line 299, in run\n",
      "      self.run_command('build')\n",
      "    File \"C:\\Program Files\\WindowsApps\\PythonSoftwareFoundation.Python.3.9_3.9.3568.0_x64__qbz5n2kfra8p0\\lib\\distutils\\cmd.py\", line 313, in run_command\n",
      "      self.distribution.run_command(command)\n",
      "    File \"C:\\Program Files\\WindowsApps\\PythonSoftwareFoundation.Python.3.9_3.9.3568.0_x64__qbz5n2kfra8p0\\lib\\distutils\\dist.py\", line 985, in run_command\n",
      "      cmd_obj.run()\n",
      "    File \"C:\\Program Files\\WindowsApps\\PythonSoftwareFoundation.Python.3.9_3.9.3568.0_x64__qbz5n2kfra8p0\\lib\\distutils\\command\\build.py\", line 135, in run\n",
      "      self.run_command(cmd_name)\n",
      "    File \"C:\\Program Files\\WindowsApps\\PythonSoftwareFoundation.Python.3.9_3.9.3568.0_x64__qbz5n2kfra8p0\\lib\\distutils\\cmd.py\", line 313, in run_command\n",
      "      self.distribution.run_command(command)\n",
      "    File \"C:\\Program Files\\WindowsApps\\PythonSoftwareFoundation.Python.3.9_3.9.3568.0_x64__qbz5n2kfra8p0\\lib\\distutils\\dist.py\", line 985, in run_command\n",
      "      cmd_obj.run()\n",
      "    File \"C:\\Users\\saraZ\\AppData\\Local\\Temp\\pip-install-7mos_m2s\\dlib_4f6053fb4516487db0caf34059332245\\setup.py\", line 134, in run\n",
      "      self.build_extension(ext)\n",
      "    File \"C:\\Users\\saraZ\\AppData\\Local\\Temp\\pip-install-7mos_m2s\\dlib_4f6053fb4516487db0caf34059332245\\setup.py\", line 171, in build_extension\n",
      "      subprocess.check_call(cmake_setup, cwd=build_folder)\n",
      "    File \"C:\\Program Files\\WindowsApps\\PythonSoftwareFoundation.Python.3.9_3.9.3568.0_x64__qbz5n2kfra8p0\\lib\\subprocess.py\", line 373, in check_call\n",
      "      raise CalledProcessError(retcode, cmd)\n",
      "  subprocess.CalledProcessError: Command '['cmake', 'C:\\\\Users\\\\saraZ\\\\AppData\\\\Local\\\\Temp\\\\pip-install-7mos_m2s\\\\dlib_4f6053fb4516487db0caf34059332245\\\\tools\\\\python', '-DCMAKE_LIBRARY_OUTPUT_DIRECTORY=C:\\\\Users\\\\saraZ\\\\AppData\\\\Local\\\\Temp\\\\pip-install-7mos_m2s\\\\dlib_4f6053fb4516487db0caf34059332245\\\\build\\\\lib.win-amd64-3.9', '-DPYTHON_EXECUTABLE=C:\\\\Users\\\\saraZ\\\\Documents\\\\Uni\\\\Third Term\\\\ML\\\\MLProject\\\\venv\\\\Scripts\\\\python.exe', '-DCMAKE_LIBRARY_OUTPUT_DIRECTORY_RELEASE=C:\\\\Users\\\\saraZ\\\\AppData\\\\Local\\\\Temp\\\\pip-install-7mos_m2s\\\\dlib_4f6053fb4516487db0caf34059332245\\\\build\\\\lib.win-amd64-3.9', '-A', 'x64']' returned non-zero exit status 1.\n",
      "  ----------------------------------------\n",
      "  ERROR: Failed building wheel for dlib\n",
      "    ERROR: Command errored out with exit status 1:\n",
      "     command: 'C:\\Users\\saraZ\\Documents\\Uni\\Third Term\\ML\\MLProject\\venv\\Scripts\\python.exe' -u -c 'import io, os, sys, setuptools, tokenize; sys.argv[0] = '\"'\"'C:\\\\Users\\\\saraZ\\\\AppData\\\\Local\\\\Temp\\\\pip-install-7mos_m2s\\\\dlib_4f6053fb4516487db0caf34059332245\\\\setup.py'\"'\"'; __file__='\"'\"'C:\\\\Users\\\\saraZ\\\\AppData\\\\Local\\\\Temp\\\\pip-install-7mos_m2s\\\\dlib_4f6053fb4516487db0caf34059332245\\\\setup.py'\"'\"';f = getattr(tokenize, '\"'\"'open'\"'\"', open)(__file__) if os.path.exists(__file__) else io.StringIO('\"'\"'from setuptools import setup; setup()'\"'\"');code = f.read().replace('\"'\"'\\r\\n'\"'\"', '\"'\"'\\n'\"'\"');f.close();exec(compile(code, __file__, '\"'\"'exec'\"'\"'))' install --record 'C:\\Users\\saraZ\\AppData\\Local\\Temp\\pip-record-dwn5jyg3\\install-record.txt' --single-version-externally-managed --compile --install-headers 'C:\\Users\\saraZ\\Documents\\Uni\\Third Term\\ML\\MLProject\\venv\\include\\site\\python3.9\\dlib'\n",
      "         cwd: C:\\Users\\saraZ\\AppData\\Local\\Temp\\pip-install-7mos_m2s\\dlib_4f6053fb4516487db0caf34059332245\\\n",
      "    Complete output (60 lines):\n",
      "    running install\n",
      "    running build\n",
      "    running build_py\n",
      "    package init file 'tools\\python\\dlib\\__init__.py' not found (or not a regular file)\n",
      "    running build_ext\n",
      "    Building extension for Python 3.9.13 (tags/v3.9.13:6de2ca5, May 17 2022, 16:36:42) [MSC v.1929 64 bit (AMD64)]\n",
      "    Invoking CMake setup: 'cmake C:\\Users\\saraZ\\AppData\\Local\\Temp\\pip-install-7mos_m2s\\dlib_4f6053fb4516487db0caf34059332245\\tools\\python -DCMAKE_LIBRARY_OUTPUT_DIRECTORY=C:\\Users\\saraZ\\AppData\\Local\\Temp\\pip-install-7mos_m2s\\dlib_4f6053fb4516487db0caf34059332245\\build\\lib.win-amd64-3.9 -DPYTHON_EXECUTABLE=C:\\Users\\saraZ\\Documents\\Uni\\Third Term\\ML\\MLProject\\venv\\Scripts\\python.exe -DCMAKE_LIBRARY_OUTPUT_DIRECTORY_RELEASE=C:\\Users\\saraZ\\AppData\\Local\\Temp\\pip-install-7mos_m2s\\dlib_4f6053fb4516487db0caf34059332245\\build\\lib.win-amd64-3.9 -A x64'\n",
      "    -- Building for: NMake Makefiles\n",
      "    CMake Error at CMakeLists.txt:5 (message):\n",
      "    \n",
      "    \n",
      "    \n",
      "      !!!!!!!!!!!!!!!!!!!!!!!!!!!!!!!!!!!!!!!!!!!!!!!!!!!!!!!!!!!!!!!!!!!!!!!!!!!!!!!\n",
      "    \n",
      "    \n",
      "      You must use Visual Studio to build a python extension on windows.  If you\n",
      "      are getting this error it means you have not installed Visual C++.  Note\n",
      "      that there are many flavors of Visual Studio, like Visual Studio for C#\n",
      "      development.  You need to install Visual Studio for C++.\n",
      "    \n",
      "    \n",
      "      !!!!!!!!!!!!!!!!!!!!!!!!!!!!!!!!!!!!!!!!!!!!!!!!!!!!!!!!!!!!!!!!!!!!!!!!!!!!!!!\n",
      "    \n",
      "    \n",
      "    \n",
      "    \n",
      "    -- Configuring incomplete, errors occurred!\n",
      "    Traceback (most recent call last):\n",
      "      File \"<string>\", line 1, in <module>\n",
      "      File \"C:\\Users\\saraZ\\AppData\\Local\\Temp\\pip-install-7mos_m2s\\dlib_4f6053fb4516487db0caf34059332245\\setup.py\", line 222, in <module>\n",
      "        setup(\n",
      "      File \"C:\\Users\\saraZ\\Documents\\Uni\\Third Term\\ML\\MLProject\\venv\\lib\\site-packages\\setuptools\\__init__.py\", line 153, in setup\n",
      "        return distutils.core.setup(**attrs)\n",
      "      File \"C:\\Program Files\\WindowsApps\\PythonSoftwareFoundation.Python.3.9_3.9.3568.0_x64__qbz5n2kfra8p0\\lib\\distutils\\core.py\", line 148, in setup\n",
      "        dist.run_commands()\n",
      "      File \"C:\\Program Files\\WindowsApps\\PythonSoftwareFoundation.Python.3.9_3.9.3568.0_x64__qbz5n2kfra8p0\\lib\\distutils\\dist.py\", line 966, in run_commands\n",
      "        self.run_command(cmd)\n",
      "      File \"C:\\Program Files\\WindowsApps\\PythonSoftwareFoundation.Python.3.9_3.9.3568.0_x64__qbz5n2kfra8p0\\lib\\distutils\\dist.py\", line 985, in run_command\n",
      "        cmd_obj.run()\n",
      "      File \"C:\\Users\\saraZ\\Documents\\Uni\\Third Term\\ML\\MLProject\\venv\\lib\\site-packages\\setuptools\\command\\install.py\", line 61, in run\n",
      "        return orig.install.run(self)\n",
      "      File \"C:\\Program Files\\WindowsApps\\PythonSoftwareFoundation.Python.3.9_3.9.3568.0_x64__qbz5n2kfra8p0\\lib\\distutils\\command\\install.py\", line 546, in run\n",
      "        self.run_command('build')\n",
      "      File \"C:\\Program Files\\WindowsApps\\PythonSoftwareFoundation.Python.3.9_3.9.3568.0_x64__qbz5n2kfra8p0\\lib\\distutils\\cmd.py\", line 313, in run_command\n",
      "        self.distribution.run_command(command)\n",
      "      File \"C:\\Program Files\\WindowsApps\\PythonSoftwareFoundation.Python.3.9_3.9.3568.0_x64__qbz5n2kfra8p0\\lib\\distutils\\dist.py\", line 985, in run_command\n",
      "        cmd_obj.run()\n",
      "      File \"C:\\Program Files\\WindowsApps\\PythonSoftwareFoundation.Python.3.9_3.9.3568.0_x64__qbz5n2kfra8p0\\lib\\distutils\\command\\build.py\", line 135, in run\n",
      "        self.run_command(cmd_name)\n",
      "      File \"C:\\Program Files\\WindowsApps\\PythonSoftwareFoundation.Python.3.9_3.9.3568.0_x64__qbz5n2kfra8p0\\lib\\distutils\\cmd.py\", line 313, in run_command\n",
      "        self.distribution.run_command(command)\n",
      "      File \"C:\\Program Files\\WindowsApps\\PythonSoftwareFoundation.Python.3.9_3.9.3568.0_x64__qbz5n2kfra8p0\\lib\\distutils\\dist.py\", line 985, in run_command\n",
      "        cmd_obj.run()\n",
      "      File \"C:\\Users\\saraZ\\AppData\\Local\\Temp\\pip-install-7mos_m2s\\dlib_4f6053fb4516487db0caf34059332245\\setup.py\", line 134, in run\n",
      "        self.build_extension(ext)\n",
      "      File \"C:\\Users\\saraZ\\AppData\\Local\\Temp\\pip-install-7mos_m2s\\dlib_4f6053fb4516487db0caf34059332245\\setup.py\", line 171, in build_extension\n",
      "        subprocess.check_call(cmake_setup, cwd=build_folder)\n",
      "      File \"C:\\Program Files\\WindowsApps\\PythonSoftwareFoundation.Python.3.9_3.9.3568.0_x64__qbz5n2kfra8p0\\lib\\subprocess.py\", line 373, in check_call\n",
      "        raise CalledProcessError(retcode, cmd)\n",
      "    subprocess.CalledProcessError: Command '['cmake', 'C:\\\\Users\\\\saraZ\\\\AppData\\\\Local\\\\Temp\\\\pip-install-7mos_m2s\\\\dlib_4f6053fb4516487db0caf34059332245\\\\tools\\\\python', '-DCMAKE_LIBRARY_OUTPUT_DIRECTORY=C:\\\\Users\\\\saraZ\\\\AppData\\\\Local\\\\Temp\\\\pip-install-7mos_m2s\\\\dlib_4f6053fb4516487db0caf34059332245\\\\build\\\\lib.win-amd64-3.9', '-DPYTHON_EXECUTABLE=C:\\\\Users\\\\saraZ\\\\Documents\\\\Uni\\\\Third Term\\\\ML\\\\MLProject\\\\venv\\\\Scripts\\\\python.exe', '-DCMAKE_LIBRARY_OUTPUT_DIRECTORY_RELEASE=C:\\\\Users\\\\saraZ\\\\AppData\\\\Local\\\\Temp\\\\pip-install-7mos_m2s\\\\dlib_4f6053fb4516487db0caf34059332245\\\\build\\\\lib.win-amd64-3.9', '-A', 'x64']' returned non-zero exit status 1.\n",
      "    ----------------------------------------\n",
      "ERROR: Command errored out with exit status 1: 'C:\\Users\\saraZ\\Documents\\Uni\\Third Term\\ML\\MLProject\\venv\\Scripts\\python.exe' -u -c 'import io, os, sys, setuptools, tokenize; sys.argv[0] = '\"'\"'C:\\\\Users\\\\saraZ\\\\AppData\\\\Local\\\\Temp\\\\pip-install-7mos_m2s\\\\dlib_4f6053fb4516487db0caf34059332245\\\\setup.py'\"'\"'; __file__='\"'\"'C:\\\\Users\\\\saraZ\\\\AppData\\\\Local\\\\Temp\\\\pip-install-7mos_m2s\\\\dlib_4f6053fb4516487db0caf34059332245\\\\setup.py'\"'\"';f = getattr(tokenize, '\"'\"'open'\"'\"', open)(__file__) if os.path.exists(__file__) else io.StringIO('\"'\"'from setuptools import setup; setup()'\"'\"');code = f.read().replace('\"'\"'\\r\\n'\"'\"', '\"'\"'\\n'\"'\"');f.close();exec(compile(code, __file__, '\"'\"'exec'\"'\"'))' install --record 'C:\\Users\\saraZ\\AppData\\Local\\Temp\\pip-record-dwn5jyg3\\install-record.txt' --single-version-externally-managed --compile --install-headers 'C:\\Users\\saraZ\\Documents\\Uni\\Third Term\\ML\\MLProject\\venv\\include\\site\\python3.9\\dlib' Check the logs for full command output.\n",
      "WARNING: You are using pip version 21.1.2; however, version 22.2.2 is available.\n",
      "You should consider upgrading via the 'C:\\Users\\saraZ\\Documents\\Uni\\Third Term\\ML\\MLProject\\venv\\Scripts\\python.exe -m pip install --upgrade pip' command.\n"
     ]
    }
   ]
  },
  {
   "metadata": {},
   "cell_type": "markdown",
   "source": [
    "# To load pre trained facial landmark model "
   ]
  },
  {
   "metadata": {
    "trusted": true
   },
   "cell_type": "code",
   "source": [
    "!wget -nd https://github.com/JeffTrain/selfie/raw/master/shape_predictor_68_face_landmarks.dat"
   ],
   "execution_count": 5,
   "outputs": [
    {
     "name": "stderr",
     "output_type": "stream",
     "text": [
      "'wget' is not recognized as an internal or external command,\n",
      "operable program or batch file.\n"
     ]
    }
   ]
  },
  {
   "metadata": {},
   "cell_type": "markdown",
   "source": [
    "# Function to trace the jaw line path\n",
    "Using polyfit and linespace functions of numpy library, we write a function to trace the jaw line of the face once the face is detected."
   ]
  },
  {
   "metadata": {
    "trusted": true
   },
   "cell_type": "code",
   "source": [
    "import numpy as np\n",
    "def curve(points):\n",
    "\tx = points[:,0]\n",
    "\ty = points[:,1]\n",
    "\n",
    "\tz = np.polyfit(x, y, 2)\n",
    "\tf = np.poly1d(z)\n",
    "\n",
    "\tx_n = np.linspace(x[0], x[-1], 100)\n",
    "\ty_n = f(x_n)\n",
    "\treturn list(zip(x_n, y_n))"
   ],
   "execution_count": 1,
   "outputs": []
  },
  {
   "metadata": {},
   "cell_type": "markdown",
   "source": [
    "# Here goes the input image whose features are need to be detected"
   ]
  },
  {
   "metadata": {},
   "cell_type": "markdown",
   "source": [
    "![](https://raw.githubusercontent.com/vishakhagupta10/feature_detection/master/faces_featureimg.jpg)"
   ]
  },
  {
   "metadata": {},
   "cell_type": "markdown",
   "source": [
    "# Loading the model for detection"
   ]
  },
  {
   "metadata": {
    "_uuid": "d629ff2d2480ee46fbb7e2d37f6b5fab8052498a",
    "_cell_guid": "79c7e3d0-c299-4dcb-8224-4455121ee9b0",
    "trusted": true
   },
   "cell_type": "code",
   "source": [
    "#from curve_fitting import curve\n",
    "from imutils import face_utils\n",
    "import numpy as np\n",
    "import dlib\n",
    "import cv2\n",
    "\n",
    "\n",
    "path='../../dataset/facelandmark/images'\n",
    "img_path='../../dataset/facelandmark/images/faces_featureimg.jpg'\n",
    "detector = dlib.get_frontal_face_detector()\n",
    "predictor = dlib.shape_predictor(\"../../dataset/facelandmark/images/shape_predictor_68_face_landmarks.dat\")\n",
    "\n",
    "\n",
    "\n"
   ],
   "execution_count": 6,
   "outputs": []
  },
  {
   "metadata": {},
   "cell_type": "markdown",
   "source": [
    "# Conversion to gray scale\n",
    "Converting the image into gray scale, because dlib library can be applied on gray scale image"
   ]
  },
  {
   "metadata": {
    "trusted": true
   },
   "cell_type": "code",
   "source": [
    "img = cv2.imread(img_path)\n",
    "gray = cv2.cvtColor(img, cv2.COLOR_BGR2GRAY)\n",
    "\n",
    "faces = detector(gray)\n",
    "\n"
   ],
   "execution_count": 7,
   "outputs": []
  },
  {
   "metadata": {},
   "cell_type": "markdown",
   "source": [
    "# Printing location of all the facial features present"
   ]
  },
  {
   "metadata": {
    "trusted": true
   },
   "cell_type": "code",
   "source": [
    "\n",
    "for (j,face) in enumerate(faces):\n",
    "        points = predictor(gray, face)\n",
    "\n",
    "        print('\\nface #',j+1)\n",
    "        l=[]\n",
    "        print('\\nface boundary coordinate\\n')\n",
    "        for i in range(0, 27):  # loop for displaying face boundary coordinate\n",
    "            curr_c = (points.part(i).x, points.part(i).y)\n",
    "            print(curr_c)\n",
    "        print('\\nnose coordinate\\n')\n",
    "        for i in range(27, 36):  # loop for displaying nose  coordinate\n",
    "            curr_c = (points.part(i).x, points.part(i).y)\n",
    "            print(curr_c)\n",
    "        print('\\nleft eye coordinate\\n')\n",
    "        for i in range(36, 42):  # loop for displaying left eye coordinate\n",
    "            curr_c = (points.part(i).x, points.part(i).y)\n",
    "            print(curr_c)\n",
    "        print('\\nright eye coordinate\\n')\n",
    "        for i in range(42, 48):  # loop for displaying right eye coordinate\n",
    "            curr_c = (points.part(i).x, points.part(i).y)\n",
    "            print(curr_c)\n",
    "        print('\\nlips coordiante\\n')\n",
    "        for i in range(48, 68):  # loop for displaying lips coordinate\n",
    "            curr_c = (points.part(i).x, points.part(i).y)\n",
    "            print(curr_c)\n",
    "\n",
    "        for i in range(5, 12):                          #loop for storing jaw coordinates\n",
    "            curr_c=(points.part(i).x, points.part(i).y)\n",
    "            l.append(curr_c)\n",
    "\n",
    "        cur=np.array(curve(np.array(l)), np.int32)      # calling function to trace proper fitting curve\n",
    "\n",
    "\n",
    "        for i in range(len(cur)-1):                          #loop for tracing jaw line\n",
    "            curr_c=(cur[i][0], cur[i][1])\n",
    "            next_cordi=(cur[i+1][0], cur[i+1][1])\n",
    "            cv2.line(img, curr_c, next_cordi, (0, 0, 0), 3)\n",
    "        for n in range(0, 68):                          #loop for detecting feature points on face\n",
    "        \tx = points.part(n).x\n",
    "        \ty = points.part(n).y\n",
    "        \tcv2.circle(img, (x, y), 3, (0, 0, 255), 2)\n",
    "\n",
    "        #points = face_utils.shape_to_np(points)\n",
    "\n",
    "        # to  convert dlib's rectangle to a OpenCV-style bounding box\n",
    "        # [i.e., (x, y, w, h)], then draw the face bounding box\n",
    "        (x, y, w, h) = face_utils.rect_to_bb(face)\n",
    "        cv2.rectangle(img, (x, y), (x + w, y + h), (0, 255, 0), 2)\n",
    "\n",
    "        # to display the face number\n",
    "        cv2.putText(img, \"Face #{}\".format(j + 1), (x - 10, y - 10),\n",
    "                    cv2.FONT_HERSHEY_SIMPLEX, 0.5, (0, 255, 0), 2)\n",
    "\n",
    "#cv2.imwrite(path, img) \n"
   ],
   "execution_count": 8,
   "outputs": [
    {
     "name": "stdout",
     "output_type": "stream",
     "text": [
      "\n",
      "face # 1\n",
      "\n",
      "face boundary coordinate\n",
      "\n",
      "(68, 189)\n",
      "(67, 217)\n",
      "(68, 244)\n",
      "(72, 272)\n",
      "(80, 298)\n",
      "(94, 321)\n",
      "(113, 340)\n",
      "(135, 356)\n",
      "(161, 363)\n",
      "(188, 361)\n",
      "(214, 351)\n",
      "(239, 336)\n",
      "(259, 316)\n",
      "(271, 290)\n",
      "(279, 261)\n",
      "(286, 232)\n",
      "(290, 201)\n",
      "(76, 160)\n",
      "(89, 148)\n",
      "(107, 147)\n",
      "(125, 151)\n",
      "(141, 160)\n",
      "(187, 161)\n",
      "(208, 153)\n",
      "(230, 151)\n",
      "(251, 156)\n",
      "(266, 171)\n",
      "\n",
      "nose coordinate\n",
      "\n",
      "(165, 186)\n",
      "(164, 204)\n",
      "(164, 222)\n",
      "(163, 240)\n",
      "(143, 254)\n",
      "(153, 257)\n",
      "(163, 260)\n",
      "(175, 257)\n",
      "(186, 255)\n",
      "\n",
      "left eye coordinate\n",
      "\n",
      "(96, 188)\n",
      "(108, 182)\n",
      "(122, 183)\n",
      "(135, 192)\n",
      "(120, 193)\n",
      "(107, 193)\n",
      "\n",
      "right eye coordinate\n",
      "\n",
      "(197, 194)\n",
      "(212, 186)\n",
      "(226, 187)\n",
      "(238, 194)\n",
      "(226, 197)\n",
      "(212, 197)\n",
      "\n",
      "lips coordiante\n",
      "\n",
      "(117, 285)\n",
      "(134, 280)\n",
      "(152, 278)\n",
      "(165, 280)\n",
      "(179, 279)\n",
      "(198, 282)\n",
      "(220, 288)\n",
      "(198, 306)\n",
      "(178, 313)\n",
      "(163, 314)\n",
      "(149, 313)\n",
      "(132, 304)\n",
      "(124, 286)\n",
      "(151, 285)\n",
      "(165, 286)\n",
      "(178, 286)\n",
      "(214, 289)\n",
      "(178, 302)\n",
      "(164, 303)\n",
      "(150, 301)\n",
      "\n",
      "face # 2\n",
      "\n",
      "face boundary coordinate\n",
      "\n",
      "(342, 259)\n",
      "(337, 281)\n",
      "(336, 304)\n",
      "(341, 327)\n",
      "(350, 350)\n",
      "(360, 374)\n",
      "(370, 398)\n",
      "(383, 420)\n",
      "(404, 429)\n",
      "(432, 428)\n",
      "(462, 413)\n",
      "(489, 395)\n",
      "(514, 373)\n",
      "(532, 346)\n",
      "(542, 316)\n",
      "(548, 286)\n",
      "(551, 252)\n",
      "(336, 221)\n",
      "(343, 210)\n",
      "(356, 208)\n",
      "(370, 213)\n",
      "(382, 222)\n",
      "(418, 220)\n",
      "(440, 209)\n",
      "(464, 206)\n",
      "(488, 210)\n",
      "(508, 222)\n",
      "\n",
      "nose coordinate\n",
      "\n",
      "(397, 249)\n",
      "(393, 271)\n",
      "(388, 293)\n",
      "(384, 314)\n",
      "(371, 319)\n",
      "(380, 326)\n",
      "(392, 331)\n",
      "(407, 326)\n",
      "(422, 320)\n",
      "\n",
      "left eye coordinate\n",
      "\n",
      "(351, 249)\n",
      "(360, 242)\n",
      "(372, 244)\n",
      "(384, 255)\n",
      "(371, 253)\n",
      "(359, 252)\n",
      "\n",
      "right eye coordinate\n",
      "\n",
      "(437, 255)\n",
      "(450, 243)\n",
      "(464, 242)\n",
      "(479, 250)\n",
      "(466, 254)\n",
      "(451, 255)\n",
      "\n",
      "lips coordiante\n",
      "\n",
      "(355, 343)\n",
      "(367, 339)\n",
      "(383, 340)\n",
      "(396, 343)\n",
      "(412, 341)\n",
      "(440, 342)\n",
      "(468, 344)\n",
      "(441, 370)\n",
      "(413, 380)\n",
      "(396, 381)\n",
      "(382, 378)\n",
      "(367, 367)\n",
      "(360, 346)\n",
      "(383, 347)\n",
      "(396, 350)\n",
      "(412, 349)\n",
      "(460, 347)\n",
      "(412, 368)\n",
      "(396, 368)\n",
      "(382, 364)\n"
     ]
    }
   ]
  },
  {
   "metadata": {},
   "cell_type": "markdown",
   "source": [
    "# Writing the data image back to the file"
   ]
  },
  {
   "metadata": {
    "trusted": true
   },
   "cell_type": "code",
   "source": [
    "\n",
    "cv2.imwrite(path+\"/faces_featureimg.jpg\", img) #writes image with landmark points"
   ],
   "execution_count": 10,
   "outputs": [
    {
     "data": {
      "text/plain": "True"
     },
     "execution_count": 10,
     "metadata": {},
     "output_type": "execute_result"
    }
   ]
  },
  {
   "metadata": {},
   "cell_type": "markdown",
   "source": [
    "# Here goes the glimpse of the output image"
   ]
  },
  {
   "cell_type": "markdown",
   "source": [
    "![image_output](https://raw.githubusercontent.com/vishakhagupta10/feature_detection/master/output_img.jpg)"
   ],
   "metadata": {
    "collapsed": false
   }
  },
  {
   "metadata": {},
   "cell_type": "markdown",
   "source": [
    "Image depicts clearly number of face present in the images and their facial features including the trace of jaw lines"
   ]
  }
 ],
 "metadata": {
  "kernelspec": {
   "name": "python3",
   "display_name": "Python 3",
   "language": "python"
  },
  "language_info": {
   "name": "python",
   "version": "3.7.6",
   "mimetype": "text/x-python",
   "codemirror_mode": {
    "name": "ipython",
    "version": 3
   },
   "pygments_lexer": "ipython3",
   "nbconvert_exporter": "python",
   "file_extension": ".py"
  }
 },
 "nbformat": 4,
 "nbformat_minor": 4
}
